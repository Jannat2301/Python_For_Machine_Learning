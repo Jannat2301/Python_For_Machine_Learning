{
  "cells": [
    {
      "cell_type": "markdown",
      "id": "1488806a",
      "metadata": {
        "id": "1488806a"
      },
      "source": [
        "### Assignment-05 (Tuple)\n",
        "- Change the notebook name with your name and Roll Number.\n",
        "- Try this as your own, no chatgpt (it's for your learning)\n",
        "- after completing the assignment, submit this book on google class room."
      ]
    },
    {
      "cell_type": "markdown",
      "id": "0f49daa5",
      "metadata": {
        "id": "0f49daa5"
      },
      "source": [
        "    Create an empty tuple and print it.\n",
        "        "
      ]
    },
    {
      "cell_type": "code",
      "execution_count": 2,
      "id": "9f34fb22",
      "metadata": {
        "id": "9f34fb22",
        "outputId": "ff213e87-dcaf-48af-9cd5-e52f735a67b3",
        "colab": {
          "base_uri": "https://localhost:8080/"
        }
      },
      "outputs": [
        {
          "output_type": "stream",
          "name": "stdout",
          "text": [
            "Jannat Tanveer\n"
          ]
        }
      ],
      "source": [
        "t1=(\"Jannat Tanveer\")\n",
        "print(t1)"
      ]
    },
    {
      "cell_type": "markdown",
      "id": "e043fa87",
      "metadata": {
        "id": "e043fa87"
      },
      "source": [
        "    Create a tuple of your favorite fruits and print it.\n"
      ]
    },
    {
      "cell_type": "code",
      "execution_count": 3,
      "id": "a8075e3e",
      "metadata": {
        "id": "a8075e3e",
        "outputId": "8389a574-fdbb-45e2-9dd1-3b7637d66968",
        "colab": {
          "base_uri": "https://localhost:8080/"
        }
      },
      "outputs": [
        {
          "output_type": "stream",
          "name": "stdout",
          "text": [
            "('Mango', 'Banana', 'Apple')\n"
          ]
        }
      ],
      "source": [
        "t2=(\"Mango\",\"Banana\",\"Apple\")\n",
        "print(t2)"
      ]
    },
    {
      "cell_type": "markdown",
      "id": "63103aae",
      "metadata": {
        "id": "63103aae"
      },
      "source": [
        "    Create a tuple that includes a mix of data types (integers, strings, floats).\n",
        "  "
      ]
    },
    {
      "cell_type": "code",
      "execution_count": 4,
      "id": "02d21498",
      "metadata": {
        "id": "02d21498",
        "outputId": "b813b63e-a50e-4f36-df6f-0e7fc35ea9a3",
        "colab": {
          "base_uri": "https://localhost:8080/"
        }
      },
      "outputs": [
        {
          "output_type": "stream",
          "name": "stdout",
          "text": [
            "(1, 2, 3, 'Jannat', 4.5)\n"
          ]
        }
      ],
      "source": [
        "t3=(1,2,3,\"Jannat\",4.5)\n",
        "print(t3)"
      ]
    },
    {
      "cell_type": "markdown",
      "id": "704e22bb",
      "metadata": {
        "id": "704e22bb"
      },
      "source": [
        "  Access the first element of a tuple.\n"
      ]
    },
    {
      "cell_type": "code",
      "execution_count": 5,
      "id": "bf90e463",
      "metadata": {
        "id": "bf90e463",
        "outputId": "93f40d00-573c-426b-f9a2-0936ec688ca8",
        "colab": {
          "base_uri": "https://localhost:8080/"
        }
      },
      "outputs": [
        {
          "output_type": "stream",
          "name": "stdout",
          "text": [
            "1\n"
          ]
        }
      ],
      "source": [
        "t4=(1,2,3,\"Jannat\",4.5)\n",
        "print(t4[0])"
      ]
    },
    {
      "cell_type": "markdown",
      "id": "26563419",
      "metadata": {
        "id": "26563419"
      },
      "source": [
        "    Access the last element of a tuple."
      ]
    },
    {
      "cell_type": "code",
      "execution_count": 6,
      "id": "54b98b3a",
      "metadata": {
        "id": "54b98b3a",
        "outputId": "c76e7d11-133c-4c70-9227-fdd63fac0c3c",
        "colab": {
          "base_uri": "https://localhost:8080/"
        }
      },
      "outputs": [
        {
          "output_type": "stream",
          "name": "stdout",
          "text": [
            "4.5\n"
          ]
        }
      ],
      "source": [
        "t5=(1,2,3,\"Jannat\",4.5)\n",
        "print(t5[-1])"
      ]
    },
    {
      "cell_type": "markdown",
      "id": "15d49e96",
      "metadata": {
        "id": "15d49e96"
      },
      "source": [
        "Access the second and third elements of a tuple.\n"
      ]
    },
    {
      "cell_type": "code",
      "execution_count": 7,
      "id": "1b8f2886",
      "metadata": {
        "id": "1b8f2886",
        "outputId": "b5cc67a3-e9a0-44f8-dcc8-fb28fb8c01c1",
        "colab": {
          "base_uri": "https://localhost:8080/"
        }
      },
      "outputs": [
        {
          "output_type": "stream",
          "name": "stdout",
          "text": [
            "(2, 3)\n"
          ]
        }
      ],
      "source": [
        "t6=(1,2,3,\"Jannat\",4.5)\n",
        "print(t6[1:3])"
      ]
    },
    {
      "cell_type": "markdown",
      "id": "069741b2",
      "metadata": {
        "id": "069741b2"
      },
      "source": [
        "\n",
        "    Slice a tuple to extract the first three elements.\n",
        "    "
      ]
    },
    {
      "cell_type": "code",
      "execution_count": 8,
      "id": "ba3f17f2",
      "metadata": {
        "id": "ba3f17f2",
        "outputId": "4f9d62f2-119c-4bfc-de17-c002a4ca04a6",
        "colab": {
          "base_uri": "https://localhost:8080/"
        }
      },
      "outputs": [
        {
          "output_type": "stream",
          "name": "stdout",
          "text": [
            "(1, 2, 3)\n"
          ]
        }
      ],
      "source": [
        "t7=(1,2,3,\"Jannat\",4.5)\n",
        "print(t7[0:3])"
      ]
    },
    {
      "cell_type": "markdown",
      "id": "f5f8af36",
      "metadata": {
        "id": "f5f8af36"
      },
      "source": [
        "Slice a tuple to extract the last three elements.\n",
        ""
      ]
    },
    {
      "cell_type": "code",
      "execution_count": 11,
      "id": "72b61419",
      "metadata": {
        "id": "72b61419",
        "outputId": "6568690a-780b-4c91-ae6d-f5c7b6ffda5a",
        "colab": {
          "base_uri": "https://localhost:8080/"
        }
      },
      "outputs": [
        {
          "output_type": "stream",
          "name": "stdout",
          "text": [
            "(3, 'Jannat', 4.5)\n"
          ]
        }
      ],
      "source": [
        "t8=(1,2,3,\"Jannat\",4.5)\n",
        "print(t8[2:])"
      ]
    },
    {
      "cell_type": "markdown",
      "id": "fbf3a8e6",
      "metadata": {
        "id": "fbf3a8e6"
      },
      "source": [
        "   Slice a tuple to get every second element.\n"
      ]
    },
    {
      "cell_type": "code",
      "execution_count": 12,
      "id": "2f28222b",
      "metadata": {
        "id": "2f28222b",
        "outputId": "592e87bb-53dc-4fe3-c567-b819c2ebab7d",
        "colab": {
          "base_uri": "https://localhost:8080/"
        }
      },
      "outputs": [
        {
          "output_type": "stream",
          "name": "stdout",
          "text": [
            "(1, 3, 4.5)\n"
          ]
        }
      ],
      "source": [
        "t9=(1,2,3,\"Jannat\",4.5)\n",
        "print(t9[::2])"
      ]
    },
    {
      "cell_type": "markdown",
      "id": "972a3d7e",
      "metadata": {
        "id": "972a3d7e"
      },
      "source": [
        "    Reverse a tuple using slicing."
      ]
    },
    {
      "cell_type": "code",
      "execution_count": 13,
      "id": "a0c026b2",
      "metadata": {
        "id": "a0c026b2",
        "outputId": "53d9b332-267a-4aaf-f731-44aa2c200a59",
        "colab": {
          "base_uri": "https://localhost:8080/"
        }
      },
      "outputs": [
        {
          "output_type": "stream",
          "name": "stdout",
          "text": [
            "(4.5, 'Jannat', 3, 2, 1)\n"
          ]
        }
      ],
      "source": [
        "t10=(1,2,3,\"Jannat\",4.5)\n",
        "print(t10[::-1])"
      ]
    },
    {
      "cell_type": "markdown",
      "id": "ff819f8c",
      "metadata": {
        "id": "ff819f8c"
      },
      "source": [
        "Create two tuples and concatenate them.\n",
        "\n"
      ]
    },
    {
      "cell_type": "code",
      "execution_count": 14,
      "id": "34bb1253",
      "metadata": {
        "id": "34bb1253",
        "outputId": "fe41edff-3911-4046-9ed7-d4e1d68ba456",
        "colab": {
          "base_uri": "https://localhost:8080/"
        }
      },
      "outputs": [
        {
          "output_type": "stream",
          "name": "stdout",
          "text": [
            "(1, 2, 3, 'Jannat', 'Tanveer')\n"
          ]
        }
      ],
      "source": [
        "t11=(1,2,3)\n",
        "t12=(\"Jannat\",\"Tanveer\")\n",
        "t13=t11+t12\n",
        "print(t13)"
      ]
    },
    {
      "cell_type": "markdown",
      "id": "6f81c447",
      "metadata": {
        "id": "6f81c447"
      },
      "source": [
        "    Repeat a tuple multiple times using the repetition operator."
      ]
    },
    {
      "cell_type": "code",
      "execution_count": 15,
      "id": "a7993e54",
      "metadata": {
        "id": "a7993e54",
        "outputId": "b09f0201-0658-403f-be55-7df5f04d3271",
        "colab": {
          "base_uri": "https://localhost:8080/"
        }
      },
      "outputs": [
        {
          "output_type": "stream",
          "name": "stdout",
          "text": [
            "(1, 2, 3, 1, 2, 3, 1, 2, 3)\n"
          ]
        }
      ],
      "source": [
        "t14=(1,2,3)\n",
        "t15=t14*3\n",
        "print(t15)"
      ]
    },
    {
      "cell_type": "markdown",
      "id": "e39bdb1d",
      "metadata": {
        "id": "e39bdb1d"
      },
      "source": [
        "Find the index of a specific element in a tuple using the index() method."
      ]
    },
    {
      "cell_type": "code",
      "execution_count": 16,
      "id": "d0887521",
      "metadata": {
        "id": "d0887521",
        "outputId": "94c6976f-a1ab-4c9e-9c2d-d08db01db8ad",
        "colab": {
          "base_uri": "https://localhost:8080/"
        }
      },
      "outputs": [
        {
          "output_type": "stream",
          "name": "stdout",
          "text": [
            "3\n"
          ]
        }
      ],
      "source": [
        "t15=(1,2,3,\"Jannat\",\"Tanveer\")\n",
        "print(t15.index(\"Jannat\"))"
      ]
    },
    {
      "cell_type": "markdown",
      "id": "fc66ca7e",
      "metadata": {
        "id": "fc66ca7e"
      },
      "source": [
        "    Count the number of occurrences of a specific element in a tuple using the count() method."
      ]
    },
    {
      "cell_type": "code",
      "execution_count": 18,
      "id": "d9bf2831",
      "metadata": {
        "id": "d9bf2831",
        "outputId": "5ff4d769-613f-421e-b793-2caf912a9ca9",
        "colab": {
          "base_uri": "https://localhost:8080/"
        }
      },
      "outputs": [
        {
          "output_type": "stream",
          "name": "stdout",
          "text": [
            "24\n"
          ]
        }
      ],
      "source": [
        "t16=(1,1,1,1,1,1,1,1,1,1,1,1,1,1,1,1,1,1,1,1,1,1,1,1)\n",
        "print(t16.count(1))"
      ]
    },
    {
      "cell_type": "markdown",
      "id": "9bdef970",
      "metadata": {
        "id": "9bdef970"
      },
      "source": [
        "Sort a tuple of numbers in ascending order.\n",
        "\n"
      ]
    },
    {
      "cell_type": "code",
      "execution_count": 20,
      "id": "326fca51",
      "metadata": {
        "id": "326fca51",
        "outputId": "4c29c070-9091-4ac4-9c32-52611d2cf3cb",
        "colab": {
          "base_uri": "https://localhost:8080/"
        }
      },
      "outputs": [
        {
          "output_type": "stream",
          "name": "stdout",
          "text": [
            "[0, 2, 3, 4, 5, 7, 8, 9]\n"
          ]
        }
      ],
      "source": [
        "t17=(8,4,2,9,0,7,3,5)\n",
        "print(sorted(t17))"
      ]
    },
    {
      "cell_type": "markdown",
      "id": "2b1d9be5",
      "metadata": {
        "id": "2b1d9be5"
      },
      "source": [
        "    Sort a tuple of strings in alphabetical order."
      ]
    },
    {
      "cell_type": "code",
      "execution_count": 29,
      "id": "5b0a511f",
      "metadata": {
        "id": "5b0a511f",
        "outputId": "618a6697-3643-4ba0-9251-97862a312c58",
        "colab": {
          "base_uri": "https://localhost:8080/"
        }
      },
      "outputs": [
        {
          "output_type": "stream",
          "name": "stdout",
          "text": [
            "['asd', 'qwe', 'wer', 'zxc']\n"
          ]
        }
      ],
      "source": [
        "t18=(\"wer\",\"asd\",\"zxc\",\"qwe\")\n",
        "print(sorted(t18))"
      ]
    },
    {
      "cell_type": "markdown",
      "id": "0393ae63",
      "metadata": {
        "id": "0393ae63"
      },
      "source": [
        "Sort a tuple of tuples based on the second element of each inner tuple."
      ]
    },
    {
      "cell_type": "code",
      "source": [
        "t19= ((1, 3), (2, 1), (4, 2), (3, 4))\n",
        "t20 = sorted(t19, key=lambda x: x[1])\n",
        "print(t20)"
      ],
      "metadata": {
        "id": "bqwR_V5P6xR6",
        "outputId": "127a1ad9-f3fe-4950-dd5d-fa93c445ddfe",
        "colab": {
          "base_uri": "https://localhost:8080/"
        }
      },
      "id": "bqwR_V5P6xR6",
      "execution_count": 36,
      "outputs": [
        {
          "output_type": "stream",
          "name": "stdout",
          "text": [
            "[(2, 1), (4, 2), (1, 3), (3, 4)]\n"
          ]
        }
      ]
    },
    {
      "cell_type": "markdown",
      "id": "65b8f449",
      "metadata": {
        "id": "65b8f449"
      },
      "source": [
        "Compare two tuples to see if they are equal in both value and identity."
      ]
    },
    {
      "cell_type": "code",
      "execution_count": 40,
      "id": "e09a6135",
      "metadata": {
        "id": "e09a6135",
        "outputId": "8ef896ce-1601-4d2c-8f12-66489849dc2b",
        "colab": {
          "base_uri": "https://localhost:8080/"
        }
      },
      "outputs": [
        {
          "output_type": "stream",
          "name": "stdout",
          "text": [
            "False\n",
            "False\n"
          ]
        }
      ],
      "source": [
        "t21=(1,2,3)\n",
        "t22=(1,3,2)\n",
        "print(t21==t22)\n",
        "print(t21 is t22)"
      ]
    },
    {
      "cell_type": "code",
      "source": [
        "t21=(1,2,3)\n",
        "t22=(1,2,3)\n",
        "print(t21==t22)\n",
        "print(t21 is t22)"
      ],
      "metadata": {
        "id": "Q59-75VU7Lu2",
        "outputId": "0cce9bce-3e5e-4ae5-f7de-6a1459bfa926",
        "colab": {
          "base_uri": "https://localhost:8080/"
        }
      },
      "id": "Q59-75VU7Lu2",
      "execution_count": 41,
      "outputs": [
        {
          "output_type": "stream",
          "name": "stdout",
          "text": [
            "True\n",
            "False\n"
          ]
        }
      ]
    },
    {
      "cell_type": "markdown",
      "id": "0810cc18",
      "metadata": {
        "id": "0810cc18"
      },
      "source": [
        "Create a shallow copy of a tuple and observe the effects of modifying one of the tuples.\n",
        "\n"
      ]
    },
    {
      "cell_type": "code",
      "execution_count": 46,
      "id": "426bacd6",
      "metadata": {
        "id": "426bacd6",
        "outputId": "cc6e2c2e-10ad-4481-ccad-70597c5a4aaa",
        "colab": {
          "base_uri": "https://localhost:8080/"
        }
      },
      "outputs": [
        {
          "output_type": "stream",
          "name": "stdout",
          "text": [
            "Before modification:\n",
            "Original tuple: (1, 2, [3, 4])\n",
            "Copied tuple: (1, 2, [3, 4])\n",
            "After modification:\n",
            "Original tuple: (1, 2, [3, 4, 5])\n",
            "Copied tuple: (1, 2, [3, 4, 5])\n"
          ]
        }
      ],
      "source": [
        "original_tuple = (1, 2, [3, 4])\n",
        "copied_tuple = original_tuple[:]\n",
        "print(\"Before modification:\")\n",
        "print(\"Original tuple:\", original_tuple)\n",
        "print(\"Copied tuple:\", copied_tuple)\n",
        "original_tuple[2].append(5)\n",
        "print(\"After modification:\")\n",
        "print(\"Original tuple:\", original_tuple)\n",
        "print(\"Copied tuple:\", copied_tuple)"
      ]
    },
    {
      "cell_type": "markdown",
      "id": "f14455c5",
      "metadata": {
        "id": "f14455c5"
      },
      "source": [
        "    Create a deep copy of a nested tuple and observe the effects of modifying one of the tuples.\n"
      ]
    },
    {
      "cell_type": "code",
      "execution_count": 49,
      "id": "4564c764",
      "metadata": {
        "id": "4564c764",
        "outputId": "8f191b26-11e4-40e6-e691-fbc1b928fc9a",
        "colab": {
          "base_uri": "https://localhost:8080/"
        }
      },
      "outputs": [
        {
          "output_type": "stream",
          "name": "stdout",
          "text": [
            "Before modification:\n",
            "Original tuple: (1, 2, [3, 4])\n",
            "deep_copied tuple: (1, 2, [3, 4])\n",
            "After modification:\n",
            "Original tuple: (1, 2, [3, 4, 5])\n",
            "deep_copied tuple: (1, 2, [3, 4])\n"
          ]
        }
      ],
      "source": [
        "original_tuple = (1, 2, [3, 4])\n",
        "deep_copied_tuple = copy.deepcopy(original_tuple)\n",
        "print(\"Before modification:\")\n",
        "print(\"Original tuple:\", original_tuple)\n",
        "print(\"deep_copied tuple:\", deep_copied_tuple)\n",
        "original_tuple[2].append(5)\n",
        "print(\"After modification:\")\n",
        "print(\"Original tuple:\", original_tuple)\n",
        "print(\"deep_copied tuple:\", deep_copied_tuple)"
      ]
    },
    {
      "cell_type": "markdown",
      "id": "b01879a0",
      "metadata": {
        "id": "b01879a0"
      },
      "source": [
        "    Pickle a tuple and save it to a file.\n"
      ]
    },
    {
      "cell_type": "code",
      "source": [
        "my_tuple = (1, 2, 3, \"Hello\", [4, 5, 6])\n",
        "with open('my_tuple.pkl', 'wb') as file:\n",
        "    pickle.dump(my_tuple, file)\n",
        "print(\"Tuple has been pickled and saved to 'my_tuple.pkl'.\")"
      ],
      "metadata": {
        "id": "2habvLXB-jwb",
        "outputId": "390b1095-c71e-42fe-e1fd-1f7796f9de34",
        "colab": {
          "base_uri": "https://localhost:8080/"
        }
      },
      "id": "2habvLXB-jwb",
      "execution_count": 58,
      "outputs": [
        {
          "output_type": "stream",
          "name": "stdout",
          "text": [
            "Tuple has been pickled and saved to 'my_tuple.pkl'.\n"
          ]
        }
      ]
    },
    {
      "cell_type": "markdown",
      "id": "6874f46a",
      "metadata": {
        "id": "6874f46a"
      },
      "source": [
        "    Unpickle a tuple from a file and display its content."
      ]
    },
    {
      "cell_type": "code",
      "execution_count": 59,
      "id": "02f8549f",
      "metadata": {
        "id": "02f8549f",
        "outputId": "b014e7b2-4e60-482d-92eb-a8ca8a666079",
        "colab": {
          "base_uri": "https://localhost:8080/"
        }
      },
      "outputs": [
        {
          "output_type": "stream",
          "name": "stdout",
          "text": [
            "Loaded tuple: (1, 2, 3, 'Hello', [4, 5, 6])\n"
          ]
        }
      ],
      "source": [
        "with open('my_tuple.pkl', 'rb') as file:\n",
        "    loaded_tuple = pickle.load(file)\n",
        "print(\"Loaded tuple:\", loaded_tuple)\n"
      ]
    }
  ],
  "metadata": {
    "kernelspec": {
      "display_name": "Python 3 (ipykernel)",
      "language": "python",
      "name": "python3"
    },
    "language_info": {
      "codemirror_mode": {
        "name": "ipython",
        "version": 3
      },
      "file_extension": ".py",
      "mimetype": "text/x-python",
      "name": "python",
      "nbconvert_exporter": "python",
      "pygments_lexer": "ipython3",
      "version": "3.9.12"
    },
    "colab": {
      "provenance": []
    }
  },
  "nbformat": 4,
  "nbformat_minor": 5
}