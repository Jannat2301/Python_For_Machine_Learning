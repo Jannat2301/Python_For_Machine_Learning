{
  "cells": [
    {
      "cell_type": "markdown",
      "id": "d3b1242a",
      "metadata": {
        "id": "d3b1242a"
      },
      "source": [
        "### Assignment-05 (DICTIONARY)\n",
        "- Change the notebook name with your name and Roll Number.\n",
        "- Try this as your own, no chatgpt (it's for your learning)\n",
        "- after completing the assignment, submit this book on google class room."
      ]
    },
    {
      "cell_type": "markdown",
      "id": "3079cae1",
      "metadata": {
        "id": "3079cae1"
      },
      "source": [
        "    Create an empty dictionary and print it.\n"
      ]
    },
    {
      "cell_type": "code",
      "execution_count": 1,
      "id": "1e0b1c0d",
      "metadata": {
        "colab": {
          "base_uri": "https://localhost:8080/"
        },
        "id": "1e0b1c0d",
        "outputId": "16acf5c3-87bc-4b00-e46f-b2432890059c"
      },
      "outputs": [
        {
          "output_type": "execute_result",
          "data": {
            "text/plain": [
              "{}"
            ]
          },
          "metadata": {},
          "execution_count": 1
        }
      ],
      "source": [
        "d1={}\n",
        "d1"
      ]
    },
    {
      "cell_type": "markdown",
      "id": "c02f03e9",
      "metadata": {
        "id": "c02f03e9"
      },
      "source": [
        "    Create a dictionary representing a person with keys such as 'name', 'age', and 'city'.\n"
      ]
    },
    {
      "cell_type": "code",
      "execution_count": 2,
      "id": "1c55f8a0",
      "metadata": {
        "colab": {
          "base_uri": "https://localhost:8080/"
        },
        "id": "1c55f8a0",
        "outputId": "c7a2d53d-920a-4b94-e58c-22d19f358e95"
      },
      "outputs": [
        {
          "output_type": "execute_result",
          "data": {
            "text/plain": [
              "{'name': 'Jannat', 'age': 23, 'city': 'Lahore'}"
            ]
          },
          "metadata": {},
          "execution_count": 2
        }
      ],
      "source": [
        "d2= {\n",
        "    'name': 'Jannat',\n",
        "    'age': 23,\n",
        "    'city': 'Lahore'\n",
        "}\n",
        "d2"
      ]
    },
    {
      "cell_type": "markdown",
      "id": "3de2a866",
      "metadata": {
        "id": "3de2a866"
      },
      "source": [
        "    Create a dictionary that includes keys with different data types (strings, integers)."
      ]
    },
    {
      "cell_type": "code",
      "execution_count": 3,
      "id": "89c0b2ee",
      "metadata": {
        "colab": {
          "base_uri": "https://localhost:8080/"
        },
        "id": "89c0b2ee",
        "outputId": "6d774933-bc85-48ad-fccf-cb1b20921927"
      },
      "outputs": [
        {
          "output_type": "execute_result",
          "data": {
            "text/plain": [
              "{'name': 'Alice', 42: 'The answer', (1, 2): [3, 4, 5], True: 'Yes'}"
            ]
          },
          "metadata": {},
          "execution_count": 3
        }
      ],
      "source": [
        "d3 = {\n",
        "    \"name\": \"Alice\",\n",
        "    42: \"The answer\",\n",
        "    (1, 2): [3, 4, 5],\n",
        "    True: \"Yes\"\n",
        "}\n",
        "d3"
      ]
    },
    {
      "cell_type": "markdown",
      "id": "41ce050c",
      "metadata": {
        "id": "41ce050c"
      },
      "source": [
        "Access and print the value associated with a specific key."
      ]
    },
    {
      "cell_type": "code",
      "source": [
        "\n",
        "d4 = {\n",
        "    \"name\": \"Jannat\",\n",
        "    42: \"The answer\",\n",
        "    (1, 2): [3, 4, 5],\n",
        "    True: \"Yes\",\n",
        "}\n",
        "print(d4[\"name\"])\n",
        "print(d4[42])\n",
        "print(d4[(1, 2)])\n",
        "print(d4[True])\n"
      ],
      "metadata": {
        "colab": {
          "base_uri": "https://localhost:8080/"
        },
        "id": "io19fdfDVY2U",
        "outputId": "34ce29b4-1025-49af-bb29-399495625e24"
      },
      "id": "io19fdfDVY2U",
      "execution_count": 4,
      "outputs": [
        {
          "output_type": "stream",
          "name": "stdout",
          "text": [
            "Jannat\n",
            "The answer\n",
            "[3, 4, 5]\n",
            "Yes\n"
          ]
        }
      ]
    },
    {
      "cell_type": "markdown",
      "id": "b6b0c37d",
      "metadata": {
        "id": "b6b0c37d"
      },
      "source": [
        "    Use the get() method to access a value, providing a default value if the key is not present.\n"
      ]
    },
    {
      "cell_type": "code",
      "execution_count": 5,
      "id": "7aa9e88c",
      "metadata": {
        "colab": {
          "base_uri": "https://localhost:8080/"
        },
        "id": "7aa9e88c",
        "outputId": "4f89cf34-6436-4876-ffde-a36fa85fa9e6"
      },
      "outputs": [
        {
          "output_type": "stream",
          "name": "stdout",
          "text": [
            "Jannat\n"
          ]
        }
      ],
      "source": [
        "d5= {\n",
        "    'name' : 'Jannat',\n",
        "    'age' : 23,\n",
        "    'city' : 'Lahore'\n",
        "    }\n",
        "name= d5.get('name')\n",
        "print(name)"
      ]
    },
    {
      "cell_type": "markdown",
      "id": "fd070da0",
      "metadata": {
        "id": "fd070da0"
      },
      "source": [
        "    Iterate through the keys of a dictionary and print each key."
      ]
    },
    {
      "cell_type": "code",
      "execution_count": 6,
      "id": "20a421cc",
      "metadata": {
        "colab": {
          "base_uri": "https://localhost:8080/"
        },
        "id": "20a421cc",
        "outputId": "d281ddcf-a9ee-4b56-8f84-e7f12113093f"
      },
      "outputs": [
        {
          "output_type": "stream",
          "name": "stdout",
          "text": [
            "a\n",
            "b\n",
            "c\n",
            "d\n",
            "e\n"
          ]
        }
      ],
      "source": [
        "alphabets = {\n",
        "    'a': 1,\n",
        "    'b': 2,\n",
        "    'c': 3,\n",
        "    'd': 4,\n",
        "    'e': 5\n",
        "}\n",
        "for key in alphabets.keys():\n",
        "    print(key)"
      ]
    },
    {
      "cell_type": "code",
      "source": [
        "alphabets = {\n",
        "    'a' : 1,\n",
        "    'b' : 2,\n",
        "    'c' : 3,\n",
        "    'd' : 4\n",
        "}\n",
        "for key in alphabets:\n",
        "    print(key)"
      ],
      "metadata": {
        "colab": {
          "base_uri": "https://localhost:8080/"
        },
        "id": "UOl3yKpSF_7m",
        "outputId": "a7481c2a-f451-42f9-f0bf-6793dcaba767"
      },
      "id": "UOl3yKpSF_7m",
      "execution_count": 7,
      "outputs": [
        {
          "output_type": "stream",
          "name": "stdout",
          "text": [
            "a\n",
            "b\n",
            "c\n",
            "d\n"
          ]
        }
      ]
    },
    {
      "cell_type": "markdown",
      "id": "b743bd62",
      "metadata": {
        "id": "b743bd62"
      },
      "source": [
        "Add a new key-value pair to a dictionary."
      ]
    },
    {
      "cell_type": "code",
      "execution_count": 8,
      "id": "db404144",
      "metadata": {
        "colab": {
          "base_uri": "https://localhost:8080/"
        },
        "id": "db404144",
        "outputId": "e08a868b-a023-44e1-9fd2-cbbb4610b639"
      },
      "outputs": [
        {
          "output_type": "execute_result",
          "data": {
            "text/plain": [
              "{'name': 'Jannat', 'age': 23, 'city': 'Lahore', 'county': 'Pakistan'}"
            ]
          },
          "metadata": {},
          "execution_count": 8
        }
      ],
      "source": [
        "d6= {\n",
        "    'name' : 'Jannat',\n",
        "    'age' : 23,\n",
        "    'city' : 'Lahore'\n",
        "}\n",
        "d6['county'] = 'Pakistan'\n",
        "d6"
      ]
    },
    {
      "cell_type": "markdown",
      "id": "ef13537b",
      "metadata": {
        "id": "ef13537b"
      },
      "source": [
        "Modify the value associated with an existing key."
      ]
    },
    {
      "cell_type": "code",
      "execution_count": 9,
      "id": "5e655290",
      "metadata": {
        "colab": {
          "base_uri": "https://localhost:8080/"
        },
        "id": "5e655290",
        "outputId": "1b9e2d1c-867f-40d2-9946-906dbbeaeab8"
      },
      "outputs": [
        {
          "output_type": "execute_result",
          "data": {
            "text/plain": [
              "{'name': 'Jannat', 'age': 23, 'city': 'Gujrat'}"
            ]
          },
          "metadata": {},
          "execution_count": 9
        }
      ],
      "source": [
        "d7= {\n",
        "    'name' : 'Jannat',\n",
        "    'age' : 23,\n",
        "    'city' : 'Lahore'\n",
        "}\n",
        "d7['city'] = 'Gujrat'\n",
        "d7"
      ]
    },
    {
      "cell_type": "markdown",
      "id": "2ff9fb92",
      "metadata": {
        "id": "2ff9fb92"
      },
      "source": [
        "Remove a specific key-value pair from a dictionary using the pop() method.\n",
        "\n"
      ]
    },
    {
      "cell_type": "code",
      "execution_count": 10,
      "id": "1bdb4169",
      "metadata": {
        "colab": {
          "base_uri": "https://localhost:8080/",
          "height": 35
        },
        "id": "1bdb4169",
        "outputId": "d89b1f5d-7f7c-462c-b656-ac7b5b0efd7a"
      },
      "outputs": [
        {
          "output_type": "execute_result",
          "data": {
            "text/plain": [
              "'Jannat'"
            ],
            "application/vnd.google.colaboratory.intrinsic+json": {
              "type": "string"
            }
          },
          "metadata": {},
          "execution_count": 10
        }
      ],
      "source": [
        "d8= {\n",
        "    'name' : 'Jannat',\n",
        "    'age' : 23,\n",
        "    'city' : 'Lahore'\n",
        "}\n",
        "d8.pop('name')"
      ]
    },
    {
      "cell_type": "code",
      "source": [
        "d8"
      ],
      "metadata": {
        "colab": {
          "base_uri": "https://localhost:8080/"
        },
        "id": "5PfmGEwXRa7Y",
        "outputId": "d23ee042-0fb4-4ab7-d028-9bec048c9788"
      },
      "id": "5PfmGEwXRa7Y",
      "execution_count": 11,
      "outputs": [
        {
          "output_type": "execute_result",
          "data": {
            "text/plain": [
              "{'age': 23, 'city': 'Lahore'}"
            ]
          },
          "metadata": {},
          "execution_count": 11
        }
      ]
    },
    {
      "cell_type": "markdown",
      "id": "edc2abf7",
      "metadata": {
        "id": "edc2abf7"
      },
      "source": [
        "    Remove a specific key-value pair from a dictionary using the del statement."
      ]
    },
    {
      "cell_type": "code",
      "execution_count": 12,
      "id": "538eca73",
      "metadata": {
        "colab": {
          "base_uri": "https://localhost:8080/"
        },
        "id": "538eca73",
        "outputId": "7c8e9c62-31a0-4e6c-ef29-a1c423f9e1a9"
      },
      "outputs": [
        {
          "output_type": "execute_result",
          "data": {
            "text/plain": [
              "{'name': 'Jannat', 'age': 23}"
            ]
          },
          "metadata": {},
          "execution_count": 12
        }
      ],
      "source": [
        "d9= {\n",
        "    'name' : 'Jannat',\n",
        "    'age' : 23,\n",
        "    'city' : 'Lahore'\n",
        "}\n",
        "del d9['city']\n",
        "d9"
      ]
    },
    {
      "cell_type": "markdown",
      "id": "0f2d7e6a",
      "metadata": {
        "id": "0f2d7e6a"
      },
      "source": [
        "Convert a dictionary to a list of keys."
      ]
    },
    {
      "cell_type": "code",
      "execution_count": 13,
      "id": "5705250c",
      "metadata": {
        "colab": {
          "base_uri": "https://localhost:8080/"
        },
        "id": "5705250c",
        "outputId": "df6b94dc-a609-4b2a-b1b7-99f84dac6df1"
      },
      "outputs": [
        {
          "output_type": "execute_result",
          "data": {
            "text/plain": [
              "['name', 'AGE', 'CITY']"
            ]
          },
          "metadata": {},
          "execution_count": 13
        }
      ],
      "source": [
        "d10= {'name' : 'JANNAT', 'AGE':23,'CITY' : 'lahore'}\n",
        "list(d10.keys())"
      ]
    },
    {
      "cell_type": "markdown",
      "id": "1191e090",
      "metadata": {
        "id": "1191e090"
      },
      "source": [
        "    Convert a dictionary to a list of values.\n"
      ]
    },
    {
      "cell_type": "code",
      "execution_count": 14,
      "id": "e89b908a",
      "metadata": {
        "colab": {
          "base_uri": "https://localhost:8080/"
        },
        "id": "e89b908a",
        "outputId": "235cde61-044f-4a90-c571-e2fef5033495"
      },
      "outputs": [
        {
          "output_type": "execute_result",
          "data": {
            "text/plain": [
              "['JANNAT', 23, 'lahore']"
            ]
          },
          "metadata": {},
          "execution_count": 14
        }
      ],
      "source": [
        "d11= {'name' : 'JANNAT', 'AGE':23,'CITY' : 'lahore'}\n",
        "list(d11.values())"
      ]
    },
    {
      "cell_type": "markdown",
      "id": "f72c7f5e",
      "metadata": {
        "id": "f72c7f5e"
      },
      "source": [
        "    Convert a list of tuples to a dictionary."
      ]
    },
    {
      "cell_type": "code",
      "execution_count": 15,
      "id": "2f531bc4",
      "metadata": {
        "colab": {
          "base_uri": "https://localhost:8080/"
        },
        "id": "2f531bc4",
        "outputId": "b629fc21-c231-4078-8558-4519ab2f8360"
      },
      "outputs": [
        {
          "output_type": "execute_result",
          "data": {
            "text/plain": [
              "{'name': 'Jannat', 'age': 23, 'city': 'Lahore'}"
            ]
          },
          "metadata": {},
          "execution_count": 15
        }
      ],
      "source": [
        "tuples = [('name', 'Jannat'), ('age', 23), ('city', 'Lahore')]\n",
        "dict(tuples)"
      ]
    },
    {
      "cell_type": "markdown",
      "id": "8ce9bedf",
      "metadata": {
        "id": "8ce9bedf"
      },
      "source": [
        "Use the keys() method to get a list of keys in a dictionary.\n"
      ]
    },
    {
      "cell_type": "code",
      "execution_count": 16,
      "id": "7d975a45",
      "metadata": {
        "colab": {
          "base_uri": "https://localhost:8080/"
        },
        "id": "7d975a45",
        "outputId": "8548cd12-90db-4c1f-e540-172444ba9362"
      },
      "outputs": [
        {
          "output_type": "execute_result",
          "data": {
            "text/plain": [
              "dict_keys(['name', 'age', 'city'])"
            ]
          },
          "metadata": {},
          "execution_count": 16
        }
      ],
      "source": [
        "d12 = {\n",
        "    'name': 'Jannat',\n",
        "    'age': 23,\n",
        "    'city': 'Lahore'\n",
        "}\n",
        "d12.keys()"
      ]
    },
    {
      "cell_type": "code",
      "source": [
        "list(d12.keys())"
      ],
      "metadata": {
        "colab": {
          "base_uri": "https://localhost:8080/"
        },
        "id": "ur5NrjabXPKg",
        "outputId": "ed9096b9-c950-428e-a3f3-7aac2714d465"
      },
      "id": "ur5NrjabXPKg",
      "execution_count": 17,
      "outputs": [
        {
          "output_type": "execute_result",
          "data": {
            "text/plain": [
              "['name', 'age', 'city']"
            ]
          },
          "metadata": {},
          "execution_count": 17
        }
      ]
    },
    {
      "cell_type": "markdown",
      "id": "8adb7c9d",
      "metadata": {
        "id": "8adb7c9d"
      },
      "source": [
        "\n",
        "    Use the values() method to get a list of values in a dictionary.\n"
      ]
    },
    {
      "cell_type": "code",
      "execution_count": 18,
      "id": "fb8a455c",
      "metadata": {
        "colab": {
          "base_uri": "https://localhost:8080/"
        },
        "id": "fb8a455c",
        "outputId": "f42cd9e5-f5a1-4d60-af81-eec04baf8533"
      },
      "outputs": [
        {
          "output_type": "execute_result",
          "data": {
            "text/plain": [
              "dict_values(['Jannat', 23, 'Lahore'])"
            ]
          },
          "metadata": {},
          "execution_count": 18
        }
      ],
      "source": [
        "d13 = {\n",
        "    'name': 'Jannat',\n",
        "    'age': 23,\n",
        "    'city': 'Lahore'\n",
        "}\n",
        "d13.values()"
      ]
    },
    {
      "cell_type": "code",
      "source": [
        "list(d13.values())"
      ],
      "metadata": {
        "colab": {
          "base_uri": "https://localhost:8080/"
        },
        "id": "8XU9oEA9Xcqu",
        "outputId": "0847015b-1b94-435d-ac66-86d93e90593b"
      },
      "id": "8XU9oEA9Xcqu",
      "execution_count": 19,
      "outputs": [
        {
          "output_type": "execute_result",
          "data": {
            "text/plain": [
              "['Jannat', 23, 'Lahore']"
            ]
          },
          "metadata": {},
          "execution_count": 19
        }
      ]
    },
    {
      "cell_type": "markdown",
      "id": "b4b044e4",
      "metadata": {
        "id": "b4b044e4"
      },
      "source": [
        "    Use the items() method to get a list of key-value pairs in a dictionary."
      ]
    },
    {
      "cell_type": "code",
      "execution_count": 20,
      "id": "ca390b74",
      "metadata": {
        "colab": {
          "base_uri": "https://localhost:8080/"
        },
        "id": "ca390b74",
        "outputId": "6d81ac7d-54d5-42da-ae02-0611408578bf"
      },
      "outputs": [
        {
          "output_type": "execute_result",
          "data": {
            "text/plain": [
              "dict_items([('name', 'Jannat'), ('age', 23), ('city', 'Lahore')])"
            ]
          },
          "metadata": {},
          "execution_count": 20
        }
      ],
      "source": [
        "d14 = {\n",
        "    'name': 'Jannat',\n",
        "    'age': 23,\n",
        "    'city': 'Lahore'\n",
        "}\n",
        "d14.items()"
      ]
    },
    {
      "cell_type": "markdown",
      "id": "bd4eb41b",
      "metadata": {
        "id": "bd4eb41b"
      },
      "source": [
        "Check if a key is present in a dictionary using the in operator.\n",
        "\n"
      ]
    },
    {
      "cell_type": "code",
      "execution_count": 21,
      "id": "39c2a92f",
      "metadata": {
        "colab": {
          "base_uri": "https://localhost:8080/"
        },
        "id": "39c2a92f",
        "outputId": "095c5742-16b1-4720-9c0d-7308188dd823"
      },
      "outputs": [
        {
          "output_type": "stream",
          "name": "stdout",
          "text": [
            "present\n"
          ]
        }
      ],
      "source": [
        "d15 = {\n",
        "    'name': 'Jannat',\n",
        "    'age': 23,\n",
        "    'city': 'Lahore'\n",
        "}\n",
        "for key in d15:\n",
        "    if key == 'name':\n",
        "        print('present')"
      ]
    },
    {
      "cell_type": "markdown",
      "id": "ba80007f",
      "metadata": {
        "id": "ba80007f"
      },
      "source": [
        "    Use the setdefault() method to add a key with a default value if it doesn't exist.\n"
      ]
    },
    {
      "cell_type": "code",
      "execution_count": 22,
      "id": "cc19bd44",
      "metadata": {
        "colab": {
          "base_uri": "https://localhost:8080/"
        },
        "id": "cc19bd44",
        "outputId": "27a5e11b-70f9-4142-c7c5-3720a1a7d834"
      },
      "outputs": [
        {
          "output_type": "execute_result",
          "data": {
            "text/plain": [
              "{'name': 'Jannat', 'age': 23, 'city': 'Lahore', 'country': 'Pakistan'}"
            ]
          },
          "metadata": {},
          "execution_count": 22
        }
      ],
      "source": [
        "d16 = {\n",
        "    'name': 'Jannat',\n",
        "    'age': 23,\n",
        "    'city': 'Lahore'\n",
        "}\n",
        "d16.setdefault('country', 'Pakistan')\n",
        "#d16.setdefault('city', 'gujrat')\n",
        "d16"
      ]
    },
    {
      "cell_type": "markdown",
      "id": "5dd9b173",
      "metadata": {
        "id": "5dd9b173"
      },
      "source": [
        "    Merge two dictionaries using the update() method.\n"
      ]
    },
    {
      "cell_type": "code",
      "execution_count": 23,
      "id": "05e95981",
      "metadata": {
        "colab": {
          "base_uri": "https://localhost:8080/"
        },
        "id": "05e95981",
        "outputId": "291141dd-cb96-4979-aff1-10cb4bbcfb18"
      },
      "outputs": [
        {
          "output_type": "execute_result",
          "data": {
            "text/plain": [
              "{'name': 'Jannat',\n",
              " 'age': 23,\n",
              " 'city': 'Lahore',\n",
              " 'marks': 10,\n",
              " 'grade': 'A',\n",
              " 'uni': 'PU',\n",
              " 'course': 'python'}"
            ]
          },
          "metadata": {},
          "execution_count": 23
        }
      ],
      "source": [
        "d17 = {\n",
        "    'name': 'Jannat',\n",
        "    'age': 23,\n",
        "    'city': 'Lahore'\n",
        "}\n",
        "d18 = {\n",
        "    'marks': 10,\n",
        "    'grade': 'A',\n",
        "    'uni': 'PU',\n",
        "    'course': 'python'\n",
        "}\n",
        "d17.update(d18)\n",
        "d17"
      ]
    },
    {
      "cell_type": "markdown",
      "id": "1415c188",
      "metadata": {
        "id": "1415c188"
      },
      "source": [
        "    Use the clear() method to remove all elements from a dictionary."
      ]
    },
    {
      "cell_type": "code",
      "execution_count": 24,
      "id": "bdf48d4c",
      "metadata": {
        "colab": {
          "base_uri": "https://localhost:8080/"
        },
        "id": "bdf48d4c",
        "outputId": "a5d0daaa-dfa9-455a-9f42-4600a53b83c0"
      },
      "outputs": [
        {
          "output_type": "execute_result",
          "data": {
            "text/plain": [
              "{}"
            ]
          },
          "metadata": {},
          "execution_count": 24
        }
      ],
      "source": [
        "d19 = {\n",
        "    'name': 'Jannat',\n",
        "    'age': 23,\n",
        "    'city': 'Lahore'\n",
        "}\n",
        "d19.clear()\n",
        "d19"
      ]
    }
  ],
  "metadata": {
    "kernelspec": {
      "display_name": "Python 3 (ipykernel)",
      "language": "python",
      "name": "python3"
    },
    "language_info": {
      "codemirror_mode": {
        "name": "ipython",
        "version": 3
      },
      "file_extension": ".py",
      "mimetype": "text/x-python",
      "name": "python",
      "nbconvert_exporter": "python",
      "pygments_lexer": "ipython3",
      "version": "3.9.12"
    },
    "colab": {
      "provenance": []
    }
  },
  "nbformat": 4,
  "nbformat_minor": 5
}