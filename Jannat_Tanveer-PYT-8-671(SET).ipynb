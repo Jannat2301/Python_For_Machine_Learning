{
  "cells": [
    {
      "cell_type": "markdown",
      "id": "a97576a6",
      "metadata": {
        "id": "a97576a6"
      },
      "source": [
        "### Assignment-05 (SET)\n",
        "- Change the notebook name with your name and Roll Number.\n",
        "- Try this as your own, no chatgpt (it's for your learning)\n",
        "- after completing the assignment, submit this book on google class room."
      ]
    },
    {
      "cell_type": "markdown",
      "id": "d1ddf3da",
      "metadata": {
        "id": "d1ddf3da"
      },
      "source": [
        "    Create an empty set and print it.\n",
        "  "
      ]
    },
    {
      "cell_type": "code",
      "execution_count": 1,
      "id": "c9e9db1e",
      "metadata": {
        "colab": {
          "base_uri": "https://localhost:8080/"
        },
        "id": "c9e9db1e",
        "outputId": "64fbf253-6b77-4738-b818-3536f7176d5c"
      },
      "outputs": [
        {
          "output_type": "stream",
          "name": "stdout",
          "text": [
            "{}\n"
          ]
        }
      ],
      "source": [
        "s1={}\n",
        "print(s1)"
      ]
    },
    {
      "cell_type": "markdown",
      "id": "eeb8fb4d",
      "metadata": {
        "id": "eeb8fb4d"
      },
      "source": [
        "  Create a set of your favorite colors and print it.\n"
      ]
    },
    {
      "cell_type": "code",
      "execution_count": 2,
      "id": "d8867e41",
      "metadata": {
        "colab": {
          "base_uri": "https://localhost:8080/"
        },
        "id": "d8867e41",
        "outputId": "4fee00d7-3a06-44b5-f012-7cac11804541"
      },
      "outputs": [
        {
          "output_type": "stream",
          "name": "stdout",
          "text": [
            "{'blue', 'red', 'green'}\n"
          ]
        }
      ],
      "source": [
        "s2={\"red\",\"green\",\"blue\"}\n",
        "print(s2)"
      ]
    },
    {
      "cell_type": "markdown",
      "id": "5e724df6",
      "metadata": {
        "id": "5e724df6"
      },
      "source": [
        "    Create a set that includes a mix of data types (integers, strings, floats)."
      ]
    },
    {
      "cell_type": "code",
      "execution_count": 3,
      "id": "e496901a",
      "metadata": {
        "colab": {
          "base_uri": "https://localhost:8080/"
        },
        "id": "e496901a",
        "outputId": "3500308e-07bb-4b76-8546-bdb64406151c"
      },
      "outputs": [
        {
          "output_type": "stream",
          "name": "stdout",
          "text": [
            "{1, 3.14, 5, 'hello'}\n"
          ]
        }
      ],
      "source": [
        "s3={1,\"hello\",3.14,5}\n",
        "print(s3)"
      ]
    },
    {
      "cell_type": "markdown",
      "id": "d2b80125",
      "metadata": {
        "id": "d2b80125"
      },
      "source": [
        "Access the elements of a set using a loop and print each element."
      ]
    },
    {
      "cell_type": "code",
      "execution_count": 4,
      "id": "3ceec096",
      "metadata": {
        "colab": {
          "base_uri": "https://localhost:8080/"
        },
        "id": "3ceec096",
        "outputId": "0b652bea-dff8-4da8-ad90-27468577e238"
      },
      "outputs": [
        {
          "output_type": "stream",
          "name": "stdout",
          "text": [
            "1\n",
            "3.14\n",
            "5\n",
            "hello\n"
          ]
        }
      ],
      "source": [
        "s4={1,\"hello\",3.14,5}\n",
        "for i in s4:\n",
        "    print(i)"
      ]
    },
    {
      "cell_type": "markdown",
      "id": "08fdccf7",
      "metadata": {
        "id": "08fdccf7"
      },
      "source": [
        "add a new element to a set using the add() method."
      ]
    },
    {
      "cell_type": "code",
      "execution_count": 5,
      "id": "5d5273f9",
      "metadata": {
        "colab": {
          "base_uri": "https://localhost:8080/"
        },
        "id": "5d5273f9",
        "outputId": "74a4875a-3486-478d-e551-6921fdd145a5"
      },
      "outputs": [
        {
          "output_type": "stream",
          "name": "stdout",
          "text": [
            "{1, 2, 3, 4}\n"
          ]
        }
      ],
      "source": [
        "s5= {1, 2, 3}\n",
        "s5.add(4)\n",
        "print(s5)"
      ]
    },
    {
      "cell_type": "markdown",
      "id": "c8257b4c",
      "metadata": {
        "id": "c8257b4c"
      },
      "source": [
        "Add multiple elements to a set using the update() method."
      ]
    },
    {
      "cell_type": "code",
      "execution_count": 6,
      "id": "d3fe8634",
      "metadata": {
        "colab": {
          "base_uri": "https://localhost:8080/"
        },
        "id": "d3fe8634",
        "outputId": "92ed9889-3cea-4cd8-f550-e1e7196d71e1"
      },
      "outputs": [
        {
          "output_type": "execute_result",
          "data": {
            "text/plain": [
              "{1, 2, 3, 4, 5}"
            ]
          },
          "metadata": {},
          "execution_count": 6
        }
      ],
      "source": [
        "s6= {1,2,3}\n",
        "s6.update({4,5})\n",
        "s6"
      ]
    },
    {
      "cell_type": "markdown",
      "id": "e8adbe50",
      "metadata": {
        "id": "e8adbe50"
      },
      "source": [
        "Remove and return an arbitrary element from a set using the pop() method."
      ]
    },
    {
      "cell_type": "code",
      "execution_count": 7,
      "id": "bfdcad15",
      "metadata": {
        "colab": {
          "base_uri": "https://localhost:8080/"
        },
        "id": "bfdcad15",
        "outputId": "052ecddb-5b76-4070-8281-bc76003bc98c"
      },
      "outputs": [
        {
          "output_type": "execute_result",
          "data": {
            "text/plain": [
              "{2, 3}"
            ]
          },
          "metadata": {},
          "execution_count": 7
        }
      ],
      "source": [
        "s7= {1,2,3}\n",
        "s7.pop()\n",
        "s7"
      ]
    },
    {
      "cell_type": "markdown",
      "id": "6bacfc71",
      "metadata": {
        "id": "6bacfc71"
      },
      "source": [
        "Remove a specific element from a set using the remove() method."
      ]
    },
    {
      "cell_type": "code",
      "execution_count": 14,
      "id": "d7d4d697",
      "metadata": {
        "colab": {
          "base_uri": "https://localhost:8080/"
        },
        "id": "d7d4d697",
        "outputId": "d1f427aa-570b-4dea-aff2-a838d582ec35"
      },
      "outputs": [
        {
          "output_type": "execute_result",
          "data": {
            "text/plain": [
              "{1, 2}"
            ]
          },
          "metadata": {},
          "execution_count": 14
        }
      ],
      "source": [
        "s8= {1,2,3}\n",
        "s8.remove(3)\n",
        "s8"
      ]
    },
    {
      "cell_type": "markdown",
      "id": "1844da3c",
      "metadata": {
        "id": "1844da3c"
      },
      "source": [
        "Remove a specific element from a set using the discard() method."
      ]
    },
    {
      "cell_type": "code",
      "execution_count": 15,
      "id": "36164bf7",
      "metadata": {
        "colab": {
          "base_uri": "https://localhost:8080/"
        },
        "id": "36164bf7",
        "outputId": "60a09020-1dda-4e38-c633-a756a1c8537c"
      },
      "outputs": [
        {
          "output_type": "execute_result",
          "data": {
            "text/plain": [
              "{2, 3}"
            ]
          },
          "metadata": {},
          "execution_count": 15
        }
      ],
      "source": [
        "s9= {1,2,3}\n",
        "s9.discard(1)\n",
        "s9"
      ]
    },
    {
      "cell_type": "markdown",
      "id": "8bd3aadb",
      "metadata": {
        "id": "8bd3aadb"
      },
      "source": [
        "Convert a string to a set of unique characters."
      ]
    },
    {
      "cell_type": "code",
      "execution_count": 16,
      "id": "5d135ac7",
      "metadata": {
        "colab": {
          "base_uri": "https://localhost:8080/"
        },
        "id": "5d135ac7",
        "outputId": "9e475d48-2891-4fb7-cbd7-e274336017f7"
      },
      "outputs": [
        {
          "output_type": "execute_result",
          "data": {
            "text/plain": [
              "{'a', 'j', 'n', 't'}"
            ]
          },
          "metadata": {},
          "execution_count": 16
        }
      ],
      "source": [
        "s10= \"jannat\"\n",
        "s11= set(s10)\n",
        "s11"
      ]
    },
    {
      "cell_type": "markdown",
      "id": "6c622821",
      "metadata": {
        "id": "6c622821"
      },
      "source": [
        "Convert a set of characters to a string."
      ]
    },
    {
      "cell_type": "code",
      "execution_count": 18,
      "id": "fb3156ac",
      "metadata": {
        "colab": {
          "base_uri": "https://localhost:8080/",
          "height": 35
        },
        "id": "fb3156ac",
        "outputId": "dcf85ef5-5bab-4a81-bf27-a56dbff3e3be"
      },
      "outputs": [
        {
          "output_type": "execute_result",
          "data": {
            "text/plain": [
              "'ajnt'"
            ],
            "application/vnd.google.colaboratory.intrinsic+json": {
              "type": "string"
            }
          },
          "metadata": {},
          "execution_count": 18
        }
      ],
      "source": [
        "s12= {\"j\",\"a\",\"n\",\"n\",\"a\",\"t\"}\n",
        "s13= \"\".join(s12)\n",
        "s13"
      ]
    },
    {
      "cell_type": "markdown",
      "id": "9a426c8f",
      "metadata": {
        "id": "9a426c8f"
      },
      "source": [
        "Use the clear() method to remove all elements from a set."
      ]
    },
    {
      "cell_type": "code",
      "execution_count": 19,
      "id": "88a65643",
      "metadata": {
        "colab": {
          "base_uri": "https://localhost:8080/"
        },
        "id": "88a65643",
        "outputId": "ab9fe14a-54a5-4bce-90a1-ee2febdbc2e6"
      },
      "outputs": [
        {
          "output_type": "execute_result",
          "data": {
            "text/plain": [
              "set()"
            ]
          },
          "metadata": {},
          "execution_count": 19
        }
      ],
      "source": [
        "set14={1,2,3,4,5,6,7,8,9}\n",
        "set14.clear()\n",
        "set14"
      ]
    },
    {
      "cell_type": "markdown",
      "id": "9edea94d",
      "metadata": {
        "id": "9edea94d"
      },
      "source": [
        "Use the copy() method to create a shallow copy of a set."
      ]
    },
    {
      "cell_type": "code",
      "execution_count": 20,
      "id": "eb4e0b56",
      "metadata": {
        "colab": {
          "base_uri": "https://localhost:8080/"
        },
        "id": "eb4e0b56",
        "outputId": "273624ec-7930-48b3-8225-ba6d6e5af78a"
      },
      "outputs": [
        {
          "output_type": "execute_result",
          "data": {
            "text/plain": [
              "{1, 2, 3}"
            ]
          },
          "metadata": {},
          "execution_count": 20
        }
      ],
      "source": [
        "s15= {1,2,3}\n",
        "s16= s15.copy()\n",
        "s16"
      ]
    },
    {
      "cell_type": "markdown",
      "id": "cd9c69f0",
      "metadata": {
        "id": "cd9c69f0"
      },
      "source": [
        "Use the difference() method to find the difference between two sets."
      ]
    },
    {
      "cell_type": "code",
      "execution_count": 21,
      "id": "2f816d0f",
      "metadata": {
        "colab": {
          "base_uri": "https://localhost:8080/"
        },
        "id": "2f816d0f",
        "outputId": "b7c9cd65-0b8f-4495-c946-ebc108b51035"
      },
      "outputs": [
        {
          "output_type": "execute_result",
          "data": {
            "text/plain": [
              "{5, 6}"
            ]
          },
          "metadata": {},
          "execution_count": 21
        }
      ],
      "source": [
        "s17= {4,5,6,7}\n",
        "s18= {4,7,1,0}\n",
        "s19= s17-s18\n",
        "s19"
      ]
    },
    {
      "cell_type": "markdown",
      "id": "307c3f1a",
      "metadata": {
        "id": "307c3f1a"
      },
      "source": [
        "Create two sets and find their union."
      ]
    },
    {
      "cell_type": "code",
      "execution_count": 22,
      "id": "fac5a114",
      "metadata": {
        "colab": {
          "base_uri": "https://localhost:8080/"
        },
        "id": "fac5a114",
        "outputId": "bb3ef24e-a001-482f-8484-1c128bdc2ca2"
      },
      "outputs": [
        {
          "output_type": "execute_result",
          "data": {
            "text/plain": [
              "{0, 2, 4, 6, 7, 9}"
            ]
          },
          "metadata": {},
          "execution_count": 22
        }
      ],
      "source": [
        "s20= {4,6,2,9}\n",
        "s21= {7,0,2,6}\n",
        "s23= s20 | s21\n",
        "s23"
      ]
    },
    {
      "cell_type": "markdown",
      "id": "eaf6ba0c",
      "metadata": {
        "id": "eaf6ba0c"
      },
      "source": [
        "    Create two sets and find their intersection.\n",
        "   "
      ]
    },
    {
      "cell_type": "code",
      "execution_count": 23,
      "id": "1169662c",
      "metadata": {
        "colab": {
          "base_uri": "https://localhost:8080/"
        },
        "id": "1169662c",
        "outputId": "b46194a6-4515-4845-f679-112e55efb56d"
      },
      "outputs": [
        {
          "output_type": "execute_result",
          "data": {
            "text/plain": [
              "{4, 5}"
            ]
          },
          "metadata": {},
          "execution_count": 23
        }
      ],
      "source": [
        "s24= {1,2,3,4,5}\n",
        "s25= {4,5,6,7,8}\n",
        "s26= s24 & s25\n",
        "s26"
      ]
    },
    {
      "cell_type": "markdown",
      "id": "859e1d7f",
      "metadata": {
        "id": "859e1d7f"
      },
      "source": [
        " Create two sets and find their difference.\n"
      ]
    },
    {
      "cell_type": "code",
      "execution_count": 24,
      "id": "681f05e6",
      "metadata": {
        "colab": {
          "base_uri": "https://localhost:8080/"
        },
        "id": "681f05e6",
        "outputId": "1c928fb7-952e-415d-930c-51949dc90ae9"
      },
      "outputs": [
        {
          "output_type": "execute_result",
          "data": {
            "text/plain": [
              "{1, 2, 3}"
            ]
          },
          "metadata": {},
          "execution_count": 24
        }
      ],
      "source": [
        "s27= {1,2,3,4,5}\n",
        "s28= {4,5,6,7,8}\n",
        "s29= s27-s28\n",
        "s29"
      ]
    },
    {
      "cell_type": "markdown",
      "id": "b1c839f5",
      "metadata": {
        "id": "b1c839f5"
      },
      "source": [
        "    Create two sets and find their symmetric difference."
      ]
    },
    {
      "cell_type": "code",
      "execution_count": 25,
      "id": "c2695bb7",
      "metadata": {
        "colab": {
          "base_uri": "https://localhost:8080/"
        },
        "id": "c2695bb7",
        "outputId": "5d16cb34-bae0-4176-bfa3-b80078460769"
      },
      "outputs": [
        {
          "output_type": "execute_result",
          "data": {
            "text/plain": [
              "{1, 2, 3, 6, 7, 8}"
            ]
          },
          "metadata": {},
          "execution_count": 25
        }
      ],
      "source": [
        "s30= {1,2,3,4,5}\n",
        "s31= {4,5,6,7,8}\n",
        "s32= s30^s31\n",
        "s32"
      ]
    },
    {
      "cell_type": "markdown",
      "id": "41933917",
      "metadata": {
        "id": "41933917"
      },
      "source": [
        "Check if one set is a subset of another."
      ]
    },
    {
      "cell_type": "code",
      "execution_count": 28,
      "id": "fc3d1fd0",
      "metadata": {
        "colab": {
          "base_uri": "https://localhost:8080/"
        },
        "id": "fc3d1fd0",
        "outputId": "6e114791-8aba-438a-8f41-5763f207a37a"
      },
      "outputs": [
        {
          "output_type": "execute_result",
          "data": {
            "text/plain": [
              "False"
            ]
          },
          "metadata": {},
          "execution_count": 28
        }
      ],
      "source": [
        "s33= {1,2,3,4,5,6,7,8,9,0}\n",
        "s34= {1,2,3,4,5}\n",
        "s33.issubset(s34)"
      ]
    },
    {
      "cell_type": "markdown",
      "id": "65174e5c",
      "metadata": {
        "id": "65174e5c"
      },
      "source": [
        "    Check if one set is a superset of another.\n"
      ]
    },
    {
      "cell_type": "code",
      "execution_count": 29,
      "id": "cc34dbf9",
      "metadata": {
        "colab": {
          "base_uri": "https://localhost:8080/"
        },
        "id": "cc34dbf9",
        "outputId": "000ac159-e12a-4b31-f1c1-e8e83e955cc7"
      },
      "outputs": [
        {
          "output_type": "execute_result",
          "data": {
            "text/plain": [
              "True"
            ]
          },
          "metadata": {},
          "execution_count": 29
        }
      ],
      "source": [
        "s35= {1,2,4,5,6,3,7}\n",
        "s36= {1,2,3,4,5}\n",
        "s35.issuperset(s36)"
      ]
    },
    {
      "cell_type": "markdown",
      "id": "e8b05467",
      "metadata": {
        "id": "e8b05467"
      },
      "source": [
        "    Check if two sets are disjoint (have no common elements)."
      ]
    },
    {
      "cell_type": "code",
      "execution_count": 30,
      "id": "f5e84a48",
      "metadata": {
        "colab": {
          "base_uri": "https://localhost:8080/"
        },
        "id": "f5e84a48",
        "outputId": "b2967fa3-e6cc-4be2-9c37-ff7e20c8e288"
      },
      "outputs": [
        {
          "output_type": "execute_result",
          "data": {
            "text/plain": [
              "True"
            ]
          },
          "metadata": {},
          "execution_count": 30
        }
      ],
      "source": [
        "s37= {1,2,3,4,5}\n",
        "s38= {6,7,8,9,10}\n",
        "s37.isdisjoint(s38)"
      ]
    }
  ],
  "metadata": {
    "kernelspec": {
      "display_name": "Python 3 (ipykernel)",
      "language": "python",
      "name": "python3"
    },
    "language_info": {
      "codemirror_mode": {
        "name": "ipython",
        "version": 3
      },
      "file_extension": ".py",
      "mimetype": "text/x-python",
      "name": "python",
      "nbconvert_exporter": "python",
      "pygments_lexer": "ipython3",
      "version": "3.9.12"
    },
    "colab": {
      "provenance": []
    }
  },
  "nbformat": 4,
  "nbformat_minor": 5
}