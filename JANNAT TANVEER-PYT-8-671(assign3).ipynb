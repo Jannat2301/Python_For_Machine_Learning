{
  "cells": [
    {
      "cell_type": "markdown",
      "id": "97dd878a",
      "metadata": {
        "id": "97dd878a"
      },
      "source": [
        "### Assignment-03 (Strings)\n",
        "- Change the notebook name with your name and Roll Number.\n",
        "- Try this as your own, no chatgpt (it's for your learning)\n",
        "- after completing the assignment, submit this book on google class room."
      ]
    },
    {
      "cell_type": "markdown",
      "id": "e2bd2715",
      "metadata": {
        "id": "e2bd2715"
      },
      "source": [
        "Create a string variable with your name and print it.\n"
      ]
    },
    {
      "cell_type": "code",
      "execution_count": null,
      "id": "bb419df7",
      "metadata": {
        "colab": {
          "base_uri": "https://localhost:8080/"
        },
        "id": "bb419df7",
        "outputId": "7cb2aaed-21fb-40f6-c010-023eac3730f3"
      },
      "outputs": [
        {
          "output_type": "stream",
          "name": "stdout",
          "text": [
            "Jannat\n"
          ]
        }
      ],
      "source": [
        "string1='Jannat'\n",
        "print(string1)"
      ]
    },
    {
      "cell_type": "markdown",
      "id": "038709aa",
      "metadata": {
        "id": "038709aa"
      },
      "source": [
        "Define a multiline string that includes line breaks and print it.\n"
      ]
    },
    {
      "cell_type": "code",
      "execution_count": null,
      "id": "707d597b",
      "metadata": {
        "colab": {
          "base_uri": "https://localhost:8080/"
        },
        "id": "707d597b",
        "outputId": "48f5be99-c2cc-48f3-c0fc-688329f0b541"
      },
      "outputs": [
        {
          "output_type": "stream",
          "name": "stdout",
          "text": [
            "\n",
            "task assigned \n",
            "by mam \n",
            "amna to \n",
            "assess us.\n",
            "\n"
          ]
        }
      ],
      "source": [
        "stringS='''\n",
        "task assigned\n",
        "by mam\n",
        "amna to\n",
        "assess us.\n",
        "'''\n",
        "print(stringS)"
      ]
    },
    {
      "cell_type": "markdown",
      "id": "0c79c559",
      "metadata": {
        "id": "0c79c559"
      },
      "source": [
        "Access the first character of a string.\n"
      ]
    },
    {
      "cell_type": "code",
      "execution_count": null,
      "id": "3dd571a7",
      "metadata": {
        "colab": {
          "base_uri": "https://localhost:8080/"
        },
        "id": "3dd571a7",
        "outputId": "9d1de380-50b5-43c8-ac19-26da87731e39"
      },
      "outputs": [
        {
          "output_type": "stream",
          "name": "stdout",
          "text": [
            "str[0]= I\n"
          ]
        }
      ],
      "source": [
        "str='I wish I were a queen.'\n",
        "print('str[0]=',str[0])\n"
      ]
    },
    {
      "cell_type": "markdown",
      "id": "eea487fc",
      "metadata": {
        "id": "eea487fc"
      },
      "source": [
        "Access the last character of a string.\n"
      ]
    },
    {
      "cell_type": "code",
      "execution_count": null,
      "id": "3efc26a3",
      "metadata": {
        "colab": {
          "base_uri": "https://localhost:8080/"
        },
        "id": "3efc26a3",
        "outputId": "0b4ba60b-6a18-47a4-9b62-b53c2b1b6eaf"
      },
      "outputs": [
        {
          "output_type": "stream",
          "name": "stdout",
          "text": [
            "str[8]= s\n"
          ]
        }
      ],
      "source": [
        "str='hilarious.'\n",
        "print('str[8]=',str[8])"
      ]
    },
    {
      "cell_type": "markdown",
      "id": "eafa1f78",
      "metadata": {
        "id": "eafa1f78"
      },
      "source": [
        "Access the second to the fifth character of a string."
      ]
    },
    {
      "cell_type": "code",
      "execution_count": null,
      "id": "1a183435",
      "metadata": {
        "colab": {
          "base_uri": "https://localhost:8080/"
        },
        "id": "1a183435",
        "outputId": "27eed3c7-83d8-4d7b-aa88-1b3b9ad37dc5"
      },
      "outputs": [
        {
          "output_type": "stream",
          "name": "stdout",
          "text": [
            "r da\n"
          ]
        }
      ],
      "source": [
        "strJ='mar dala'\n",
        "print(strJ[2:6])"
      ]
    },
    {
      "cell_type": "code",
      "source": [
        "strF='government'\n",
        "print(strF[2:6])"
      ],
      "metadata": {
        "colab": {
          "base_uri": "https://localhost:8080/"
        },
        "id": "2pUAVL7gLVw5",
        "outputId": "feb68111-3a24-4801-8d54-8da0bf1b6c51"
      },
      "id": "2pUAVL7gLVw5",
      "execution_count": null,
      "outputs": [
        {
          "output_type": "stream",
          "name": "stdout",
          "text": [
            "vern\n"
          ]
        }
      ]
    },
    {
      "cell_type": "markdown",
      "id": "345dabe1",
      "metadata": {
        "id": "345dabe1"
      },
      "source": [
        "Attempt to change a character within an existing string and explain the result.\n"
      ]
    },
    {
      "cell_type": "code",
      "execution_count": null,
      "id": "4a2c3c34",
      "metadata": {
        "colab": {
          "base_uri": "https://localhost:8080/"
        },
        "id": "4a2c3c34",
        "outputId": "d9479ae1-75fb-4d8e-e8c0-eaf5adbcb42d"
      },
      "outputs": [
        {
          "output_type": "stream",
          "name": "stdout",
          "text": [
            "Oggy\n"
          ]
        }
      ],
      "source": [
        "strR='oggy'\n",
        "newstring=strR.replace('o','O')\n",
        "print(newstring)"
      ]
    },
    {
      "cell_type": "markdown",
      "id": "915097a4",
      "metadata": {
        "id": "915097a4"
      },
      "source": [
        "\n",
        "Slice a string to obtain the first 3 characters.\n"
      ]
    },
    {
      "cell_type": "code",
      "execution_count": null,
      "id": "eeafdee2",
      "metadata": {
        "colab": {
          "base_uri": "https://localhost:8080/"
        },
        "id": "eeafdee2",
        "outputId": "c5dfae16-c09b-4631-ebfd-ff18336e55c2"
      },
      "outputs": [
        {
          "output_type": "stream",
          "name": "stdout",
          "text": [
            "conf\n"
          ]
        }
      ],
      "source": [
        "strA='confidential'\n",
        "print(strA[0:4])"
      ]
    },
    {
      "cell_type": "markdown",
      "id": "97f70e4d",
      "metadata": {
        "id": "97f70e4d"
      },
      "source": [
        "Slice a string to obtain the last 4 characters.\n"
      ]
    },
    {
      "cell_type": "code",
      "execution_count": null,
      "id": "cd07247a",
      "metadata": {
        "colab": {
          "base_uri": "https://localhost:8080/"
        },
        "id": "cd07247a",
        "outputId": "3d5a05c6-913e-4626-9065-08482ba32809"
      },
      "outputs": [
        {
          "output_type": "stream",
          "name": "stdout",
          "text": [
            "tial\n"
          ]
        }
      ],
      "source": [
        "strA='confidential'\n",
        "print(strA[8:])"
      ]
    },
    {
      "cell_type": "markdown",
      "id": "db421ce3",
      "metadata": {
        "id": "db421ce3"
      },
      "source": [
        "Slice a string to get every second character.\n"
      ]
    },
    {
      "cell_type": "code",
      "execution_count": null,
      "id": "a8b066a6",
      "metadata": {
        "colab": {
          "base_uri": "https://localhost:8080/"
        },
        "id": "a8b066a6",
        "outputId": "3fbb4b44-f6fa-4c45-df77-d6562beaf0bf"
      },
      "outputs": [
        {
          "output_type": "stream",
          "name": "stdout",
          "text": [
            "ldbg\n"
          ]
        }
      ],
      "source": [
        "strB='ladybug'\n",
        "print(strB[::2])"
      ]
    },
    {
      "cell_type": "markdown",
      "id": "ff5b4751",
      "metadata": {
        "id": "ff5b4751"
      },
      "source": [
        "Reverse a string using slicing."
      ]
    },
    {
      "cell_type": "code",
      "execution_count": null,
      "id": "c4c4c969",
      "metadata": {
        "colab": {
          "base_uri": "https://localhost:8080/"
        },
        "id": "c4c4c969",
        "outputId": "fbff8064-9a4e-4ef4-ef47-7a5e9a1af994"
      },
      "outputs": [
        {
          "output_type": "stream",
          "name": "stdout",
          "text": [
            "AZNUH\n"
          ]
        }
      ],
      "source": [
        "strC='HUNZA'\n",
        "print(strC[::-1])"
      ]
    },
    {
      "cell_type": "markdown",
      "id": "c8b7f82a",
      "metadata": {
        "id": "c8b7f82a"
      },
      "source": [
        "Create two string variables and concatenate them.\n",
        "\n"
      ]
    },
    {
      "cell_type": "code",
      "execution_count": null,
      "id": "c4d4f5ae",
      "metadata": {
        "colab": {
          "base_uri": "https://localhost:8080/"
        },
        "id": "c4d4f5ae",
        "outputId": "3fd9a92f-2246-4c7f-fa22-ee403e3484fb"
      },
      "outputs": [
        {
          "output_type": "stream",
          "name": "stdout",
          "text": [
            "MASHABEAR\n"
          ]
        }
      ],
      "source": [
        "strJ='MASHA'\n",
        "strK='BEAR'\n",
        "print(strJ+strK)"
      ]
    },
    {
      "cell_type": "markdown",
      "id": "13e8d4b1",
      "metadata": {
        "id": "13e8d4b1"
      },
      "source": [
        "Concatenate a string with a number (convert the number to a string first)."
      ]
    },
    {
      "cell_type": "code",
      "source": [
        "num = 8\n",
        "strW = str(num)\n",
        "print(\"The number as a string:\", strW)\n",
        "print(\"Type of strW:\", type(strW))\n",
        "str='happy'\n",
        "print(strW+str)"
      ],
      "metadata": {
        "id": "eRubi-BBpcRb",
        "outputId": "6c06895b-3a43-47fc-92c8-3aacc3f99a50",
        "colab": {
          "base_uri": "https://localhost:8080/"
        }
      },
      "id": "eRubi-BBpcRb",
      "execution_count": null,
      "outputs": [
        {
          "output_type": "stream",
          "name": "stdout",
          "text": [
            "The number as a string: 8\n",
            "Type of strW: <class 'str'>\n",
            "8happy\n"
          ]
        }
      ]
    },
    {
      "cell_type": "markdown",
      "id": "201b3886",
      "metadata": {
        "id": "201b3886"
      },
      "source": [
        "Generate a string that repeats \"abc\" 10 times.\n",
        "\n"
      ]
    },
    {
      "cell_type": "code",
      "execution_count": null,
      "id": "01d068c1",
      "metadata": {
        "colab": {
          "base_uri": "https://localhost:8080/"
        },
        "id": "01d068c1",
        "outputId": "be148ffb-1a7c-472c-ee3f-00af8fde19c0"
      },
      "outputs": [
        {
          "output_type": "stream",
          "name": "stdout",
          "text": [
            "str*10= abcabcabcabcabcabcabcabcabcabc\n"
          ]
        }
      ],
      "source": [
        "str='abc'\n",
        "print('str*10=',str*10)"
      ]
    },
    {
      "cell_type": "markdown",
      "id": "c668c12f",
      "metadata": {
        "id": "c668c12f"
      },
      "source": [
        "Create a string containing a repeating pattern of your choice."
      ]
    },
    {
      "cell_type": "code",
      "execution_count": null,
      "id": "948db73c",
      "metadata": {
        "colab": {
          "base_uri": "https://localhost:8080/"
        },
        "id": "948db73c",
        "outputId": "454ecdc7-88a5-45a1-d246-f39423b7a21c"
      },
      "outputs": [
        {
          "output_type": "stream",
          "name": "stdout",
          "text": [
            "str*3= idiotidiotidiot\n"
          ]
        }
      ],
      "source": [
        "str='idiot'\n",
        "print('str*3=',str*3)"
      ]
    },
    {
      "cell_type": "markdown",
      "id": "597fce86",
      "metadata": {
        "id": "597fce86"
      },
      "source": [
        "Convert a string to lowercase using the lower() method.\n"
      ]
    },
    {
      "cell_type": "code",
      "execution_count": null,
      "id": "091297bd",
      "metadata": {
        "colab": {
          "base_uri": "https://localhost:8080/"
        },
        "id": "091297bd",
        "outputId": "06f5c6dc-b993-41a9-eae7-01529aeea06d"
      },
      "outputs": [
        {
          "output_type": "stream",
          "name": "stdout",
          "text": [
            "str.lower()= valley\n"
          ]
        }
      ],
      "source": [
        "str='VALLEY'\n",
        "rv=str.lower()\n",
        "print('str.lower()=',rv)"
      ]
    },
    {
      "cell_type": "markdown",
      "id": "e96bb408",
      "metadata": {
        "id": "e96bb408"
      },
      "source": [
        "\n",
        "Convert a string to uppercase using the upper() method.\n"
      ]
    },
    {
      "cell_type": "code",
      "execution_count": null,
      "id": "a2598fc3",
      "metadata": {
        "colab": {
          "base_uri": "https://localhost:8080/"
        },
        "id": "a2598fc3",
        "outputId": "5abb8e28-1944-4c47-d35d-7b0d567a3ec6"
      },
      "outputs": [
        {
          "output_type": "stream",
          "name": "stdout",
          "text": [
            "str.upper()= VALLEY\n"
          ]
        }
      ],
      "source": [
        "str='valley'\n",
        "rv=str.upper()\n",
        "print('str.upper()=',rv)"
      ]
    },
    {
      "cell_type": "markdown",
      "id": "92ab5b20",
      "metadata": {
        "id": "92ab5b20"
      },
      "source": [
        "Remove leading and trailing whitespace from a string using the strip() method.\n"
      ]
    },
    {
      "cell_type": "code",
      "execution_count": null,
      "id": "0507e93a",
      "metadata": {
        "colab": {
          "base_uri": "https://localhost:8080/"
        },
        "id": "0507e93a",
        "outputId": "48f93962-4890-469d-bd06-398339b838b8"
      },
      "outputs": [
        {
          "output_type": "stream",
          "name": "stdout",
          "text": [
            "beautiful\n"
          ]
        }
      ],
      "source": [
        "str='     beautiful         '\n",
        "rv=str.strip()\n",
        "print(rv)"
      ]
    },
    {
      "cell_type": "markdown",
      "id": "a91e7489",
      "metadata": {
        "id": "a91e7489"
      },
      "source": [
        "Check if a string starts with a specific prefix using the startswith() method.\n"
      ]
    },
    {
      "cell_type": "code",
      "execution_count": null,
      "id": "3c01dd7d",
      "metadata": {
        "colab": {
          "base_uri": "https://localhost:8080/"
        },
        "id": "3c01dd7d",
        "outputId": "f1cad842-db82-4ee7-ca73-1ebe62d2bfec"
      },
      "outputs": [
        {
          "output_type": "stream",
          "name": "stdout",
          "text": [
            "False\n"
          ]
        }
      ],
      "source": [
        "str='BIOREFINERY IN CIRCULAR ECONOMY'\n",
        "rv=str.startswith('biorefinery')\n",
        "print(rv)"
      ]
    },
    {
      "cell_type": "markdown",
      "id": "4b8b4581",
      "metadata": {
        "id": "4b8b4581"
      },
      "source": [
        "Split a string into a list of words using the split() method.\n"
      ]
    },
    {
      "cell_type": "code",
      "execution_count": null,
      "id": "5bcc4070",
      "metadata": {
        "colab": {
          "base_uri": "https://localhost:8080/"
        },
        "id": "5bcc4070",
        "outputId": "d60fba61-bc1d-4a2e-ebc0-d60ee8c304b3"
      },
      "outputs": [
        {
          "output_type": "stream",
          "name": "stdout",
          "text": [
            "['it e', 'ds with us']\n"
          ]
        }
      ],
      "source": [
        "str='it ends with us'\n",
        "rv=str.split(sep='n')\n",
        "print(rv)"
      ]
    },
    {
      "cell_type": "markdown",
      "id": "37dd8ff8",
      "metadata": {
        "id": "37dd8ff8"
      },
      "source": [
        "Join a list of words into a single string using the join() method."
      ]
    },
    {
      "cell_type": "code",
      "execution_count": null,
      "id": "473860cd",
      "metadata": {
        "colab": {
          "base_uri": "https://localhost:8080/"
        },
        "id": "473860cd",
        "outputId": "6c30661a-d6c5-4eb0-e3d3-bff9ce6182cd"
      },
      "outputs": [
        {
          "output_type": "stream",
          "name": "stdout",
          "text": [
            "life\n"
          ]
        }
      ],
      "source": [
        "str=['l', 'i', 'f', 'e']\n",
        "mystr=''.join(str)\n",
        "print(mystr)"
      ]
    },
    {
      "cell_type": "code",
      "execution_count": null,
      "id": "1af3ae45",
      "metadata": {
        "colab": {
          "base_uri": "https://localhost:8080/"
        },
        "id": "1af3ae45",
        "outputId": "1098c1db-7c22-4fa9-851d-cd9249cdd12f"
      },
      "outputs": [
        {
          "output_type": "stream",
          "name": "stdout",
          "text": [
            "life is what you make it\n"
          ]
        }
      ],
      "source": [
        "str='life', ' is',' what',' you',' make',' it'\n",
        "mystr=''.join(str)\n",
        "print(mystr)"
      ]
    }
  ],
  "metadata": {
    "kernelspec": {
      "display_name": "Python 3 (ipykernel)",
      "language": "python",
      "name": "python3"
    },
    "language_info": {
      "codemirror_mode": {
        "name": "ipython",
        "version": 3
      },
      "file_extension": ".py",
      "mimetype": "text/x-python",
      "name": "python",
      "nbconvert_exporter": "python",
      "pygments_lexer": "ipython3",
      "version": "3.10.13"
    },
    "colab": {
      "provenance": []
    }
  },
  "nbformat": 4,
  "nbformat_minor": 5
}