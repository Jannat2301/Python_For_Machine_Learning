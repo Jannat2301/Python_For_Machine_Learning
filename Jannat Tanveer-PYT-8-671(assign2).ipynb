{
  "cells": [
    {
      "cell_type": "markdown",
      "id": "1776f63f",
      "metadata": {
        "id": "1776f63f"
      },
      "source": [
        "### Assignment-02\n",
        "- Change the notebook name with your name and Roll Number.\n",
        "- Try this as your own, no chatgpt (it's for your learning)\n",
        "- after completing the assignment, submit this book on google class room."
      ]
    },
    {
      "cell_type": "markdown",
      "id": "5bc28c35",
      "metadata": {
        "id": "5bc28c35"
      },
      "source": [
        "Declare and print a variable with the name \"name\" containing your name.\n"
      ]
    },
    {
      "cell_type": "code",
      "execution_count": null,
      "id": "4eb1e464",
      "metadata": {
        "id": "4eb1e464",
        "outputId": "58e73feb-2f82-4c1b-855f-26d4702a3ac3",
        "colab": {
          "base_uri": "https://localhost:8080/"
        }
      },
      "outputs": [
        {
          "output_type": "stream",
          "name": "stdout",
          "text": [
            "name= Jannat Tanveer\n"
          ]
        }
      ],
      "source": [
        "NAME=\"Jannat Tanveer\"\n",
        "print(\"name=\",NAME)"
      ]
    },
    {
      "cell_type": "markdown",
      "id": "b66e672b",
      "metadata": {
        "id": "b66e672b"
      },
      "source": [
        "Create two variables, x and y, and swap their values without using a third variable.\n"
      ]
    },
    {
      "cell_type": "code",
      "execution_count": null,
      "id": "5734b25c",
      "metadata": {
        "id": "5734b25c",
        "outputId": "02b8d603-3724-44b5-a23d-fda95a7e16bc",
        "colab": {
          "base_uri": "https://localhost:8080/"
        }
      },
      "outputs": [
        {
          "output_type": "stream",
          "name": "stdout",
          "text": [
            "x= 6\n",
            "y= 3\n"
          ]
        }
      ],
      "source": [
        "x=3\n",
        "y=6\n",
        "x,y=y,x\n",
        "print(\"x=\",x)\n",
        "print(\"y=\",y)"
      ]
    },
    {
      "cell_type": "markdown",
      "id": "68c5f126",
      "metadata": {
        "id": "68c5f126"
      },
      "source": [
        "Calculate the area of a rectangle with length and width stored in variables.\n"
      ]
    },
    {
      "cell_type": "code",
      "execution_count": null,
      "id": "efead34a",
      "metadata": {
        "id": "efead34a",
        "outputId": "0dcf72c0-39b3-4c59-b349-c143da819b57",
        "colab": {
          "base_uri": "https://localhost:8080/"
        }
      },
      "outputs": [
        {
          "output_type": "stream",
          "name": "stdout",
          "text": [
            "area= 220\n"
          ]
        }
      ],
      "source": [
        "length=22\n",
        "width=10\n",
        "area=length*width\n",
        "print(\"area=\",area)"
      ]
    },
    {
      "cell_type": "markdown",
      "id": "e452ae4d",
      "metadata": {
        "id": "e452ae4d"
      },
      "source": [
        "Create a variable with a long string (multi-line) and print its length."
      ]
    },
    {
      "cell_type": "code",
      "execution_count": null,
      "id": "0f7d6636",
      "metadata": {
        "id": "0f7d6636",
        "outputId": "1a485975-4099-4ee8-8893-4833a882af6d",
        "colab": {
          "base_uri": "https://localhost:8080/"
        }
      },
      "outputs": [
        {
          "output_type": "stream",
          "name": "stdout",
          "text": [
            "233\n"
          ]
        }
      ],
      "source": [
        "multi_line_string=\"\"\"\n",
        "                 Biorefineries are indispensable to the circular economy,\n",
        "                 revolutioninzg numerous kinds of biomass into value-added\n",
        "                 resources such as fuel, chemical, and material.\n",
        "                 \"\"\"\n",
        "print(len(multi_line_string))"
      ]
    },
    {
      "cell_type": "markdown",
      "id": "708def01",
      "metadata": {
        "id": "708def01"
      },
      "source": [
        "Create a variable to store your favorite number and print it."
      ]
    },
    {
      "cell_type": "code",
      "execution_count": null,
      "id": "d810e261",
      "metadata": {
        "id": "d810e261",
        "outputId": "2441ea68-c908-4cb0-8c4a-909536f6f9b5",
        "colab": {
          "base_uri": "https://localhost:8080/"
        }
      },
      "outputs": [
        {
          "output_type": "stream",
          "name": "stdout",
          "text": [
            "fvrt_no= 9\n"
          ]
        }
      ],
      "source": [
        "fvrt_no=9\n",
        "print(\"fvrt_no=\",fvrt_no)"
      ]
    },
    {
      "cell_type": "markdown",
      "id": "9088a41e",
      "metadata": {
        "id": "9088a41e"
      },
      "source": [
        "Declare and assign values to multiple variables to represent the sides of a triangle. Calculate and print its perimeter.\n"
      ]
    },
    {
      "cell_type": "code",
      "execution_count": null,
      "id": "13d9d2d2",
      "metadata": {
        "id": "13d9d2d2",
        "outputId": "529fbeb8-3547-434e-f911-c543b05f8547",
        "colab": {
          "base_uri": "https://localhost:8080/"
        }
      },
      "outputs": [
        {
          "output_type": "stream",
          "name": "stdout",
          "text": [
            "the perimeter of triangle is= 12\n"
          ]
        }
      ],
      "source": [
        "perpedicular=3\n",
        "base=5\n",
        "hypotenuse=4\n",
        "perimeter= perpedicular + base + hypotenuse\n",
        "print(\"the perimeter of triangle is=\",perimeter)"
      ]
    },
    {
      "cell_type": "markdown",
      "id": "a76f2d4f",
      "metadata": {
        "id": "a76f2d4f"
      },
      "source": [
        "Store the price of an item in one variable and the quantity in another. Calculate and print the total cost.\n"
      ]
    },
    {
      "cell_type": "code",
      "execution_count": null,
      "id": "8cc9115b",
      "metadata": {
        "id": "8cc9115b",
        "outputId": "904c4162-994b-4ff7-e8e3-2779acf44193",
        "colab": {
          "base_uri": "https://localhost:8080/"
        }
      },
      "outputs": [
        {
          "output_type": "stream",
          "name": "stdout",
          "text": [
            "enter the number:2\n",
            "enter the number:3\n",
            "total_cost is= 6\n"
          ]
        }
      ],
      "source": [
        "price= int(input(\"enter the number:\"))\n",
        "quantity= int(input(\"enter the number:\"))\n",
        "total_cost= price * quantity\n",
        "print(\"total_cost is=\",total_cost)"
      ]
    },
    {
      "cell_type": "markdown",
      "id": "7d9d0793",
      "metadata": {
        "id": "7d9d0793"
      },
      "source": [
        "Declare a constant variable for the value of pi (π) and use it to calculate the circumference of a circle with a given radius."
      ]
    },
    {
      "cell_type": "code",
      "execution_count": null,
      "id": "254f3e92",
      "metadata": {
        "id": "254f3e92",
        "outputId": "7905149d-4b09-405f-b7da-8b966752e3b9",
        "colab": {
          "base_uri": "https://localhost:8080/"
        }
      },
      "outputs": [
        {
          "output_type": "stream",
          "name": "stdout",
          "text": [
            "enter the number:3.14\n",
            "enter the number:2\n",
            "12.56\n"
          ]
        }
      ],
      "source": [
        "pi=float(input(\"enter the number:\"))\n",
        "r=float(input(\"enter the number:\"))\n",
        "c=2 * pi * r\n",
        "print(c)\n"
      ]
    },
    {
      "cell_type": "markdown",
      "id": "2415eca0",
      "metadata": {
        "id": "2415eca0"
      },
      "source": [
        "Calculate the sum of two numbers, a and b."
      ]
    },
    {
      "cell_type": "code",
      "execution_count": null,
      "id": "8eeee19d",
      "metadata": {
        "id": "8eeee19d",
        "outputId": "d46a9ee3-2d60-485b-9660-4a6cff7ba637",
        "colab": {
          "base_uri": "https://localhost:8080/"
        }
      },
      "outputs": [
        {
          "output_type": "stream",
          "name": "stdout",
          "text": [
            "33.0\n"
          ]
        }
      ],
      "source": [
        "a=16.5\n",
        "b=16.5\n",
        "sum=a+b\n",
        "print(sum)"
      ]
    },
    {
      "cell_type": "markdown",
      "id": "2f3f9653",
      "metadata": {
        "id": "2f3f9653"
      },
      "source": [
        "Calculate the product of two numbers, a and b.\n"
      ]
    },
    {
      "cell_type": "code",
      "execution_count": null,
      "id": "baac0709",
      "metadata": {
        "id": "baac0709",
        "outputId": "29e68fdd-2e15-4c84-bb39-56adf8932fc9",
        "colab": {
          "base_uri": "https://localhost:8080/"
        }
      },
      "outputs": [
        {
          "output_type": "stream",
          "name": "stdout",
          "text": [
            "enter the number:3\n",
            "enter the number:3.0\n",
            "9.0\n"
          ]
        }
      ],
      "source": [
        "a=int(input(\"enter the number:\"))\n",
        "b=float(input(\"enter the number:\"))\n",
        "product=a * b\n",
        "print(product)"
      ]
    },
    {
      "cell_type": "markdown",
      "id": "263bb83b",
      "metadata": {
        "id": "263bb83b"
      },
      "source": [
        "Calculate the result of dividing a by b (with proper error handling for division by zero).\n"
      ]
    },
    {
      "cell_type": "code",
      "execution_count": null,
      "id": "783ef794",
      "metadata": {
        "id": "783ef794",
        "outputId": "4bff0a84-a73f-40b0-d7b7-1dd91c1de19a",
        "colab": {
          "base_uri": "https://localhost:8080/"
        }
      },
      "outputs": [
        {
          "output_type": "stream",
          "name": "stdout",
          "text": [
            "enter the number:144\n",
            "enter the number:12\n",
            "12.0\n"
          ]
        }
      ],
      "source": [
        "a=int(input(\"enter the number:\"))\n",
        "b=int(input(\"enter the number:\"))\n",
        "div=a/b\n",
        "print(div)"
      ]
    },
    {
      "cell_type": "markdown",
      "id": "1160a016",
      "metadata": {
        "id": "1160a016"
      },
      "source": [
        "Calculate the square of a number x."
      ]
    },
    {
      "cell_type": "code",
      "execution_count": null,
      "id": "ba1443de",
      "metadata": {
        "id": "ba1443de",
        "outputId": "e519a60f-50da-4818-a097-f93c8e630e06",
        "colab": {
          "base_uri": "https://localhost:8080/"
        }
      },
      "outputs": [
        {
          "output_type": "stream",
          "name": "stdout",
          "text": [
            "enter the number:6\n",
            "36\n"
          ]
        }
      ],
      "source": [
        "a=int(input(\"enter the number:\"))\n",
        "sqr=a ** 2\n",
        "print(sqr)"
      ]
    },
    {
      "cell_type": "markdown",
      "id": "927cffd3",
      "metadata": {
        "id": "927cffd3"
      },
      "source": [
        "Calculate the remainder when a is divided by b."
      ]
    },
    {
      "cell_type": "code",
      "execution_count": null,
      "id": "f95b1e5c",
      "metadata": {
        "id": "f95b1e5c",
        "outputId": "ae3f544d-01ed-4dd2-db98-878f9aeae892",
        "colab": {
          "base_uri": "https://localhost:8080/"
        }
      },
      "outputs": [
        {
          "output_type": "stream",
          "name": "stdout",
          "text": [
            "enter the number:74\n",
            "enter the number:5\n",
            "4\n"
          ]
        }
      ],
      "source": [
        "a=int(input(\"enter the number:\"))\n",
        "b=int(input(\"enter the number:\"))\n",
        "remainder=a%b\n",
        "print(remainder)"
      ]
    },
    {
      "cell_type": "markdown",
      "id": "fad0381a",
      "metadata": {
        "id": "fad0381a"
      },
      "source": [
        " Calculate the result of dividing 17 by 3 and print the quotient and remainder."
      ]
    },
    {
      "cell_type": "code",
      "execution_count": null,
      "id": "6bbe2ffb",
      "metadata": {
        "id": "6bbe2ffb",
        "outputId": "a613d0c3-9308-4b84-eee9-91a60fee5bb5",
        "colab": {
          "base_uri": "https://localhost:8080/"
        }
      },
      "outputs": [
        {
          "output_type": "stream",
          "name": "stdout",
          "text": [
            "enter the number:63\n",
            "enter the number:9\n",
            "quotient= 7\n",
            "remainder= 0\n"
          ]
        }
      ],
      "source": [
        "a=int(input(\"enter the number:\"))\n",
        "b=int(input(\"enter the number:\"))\n",
        "remainder=a % b\n",
        "quotient=a // b\n",
        "print(\"quotient=\",quotient)\n",
        "print(\"remainder=\",remainder)"
      ]
    },
    {
      "cell_type": "markdown",
      "id": "0abdb0ba",
      "metadata": {
        "id": "0abdb0ba"
      },
      "source": [
        "Calculate the area of a square with a given side length.\n"
      ]
    },
    {
      "cell_type": "code",
      "execution_count": null,
      "id": "4a0edefb",
      "metadata": {
        "id": "4a0edefb",
        "outputId": "e6df4490-5575-4bd3-8afa-105a704b5364",
        "colab": {
          "base_uri": "https://localhost:8080/"
        }
      },
      "outputs": [
        {
          "output_type": "stream",
          "name": "stdout",
          "text": [
            "area of square is= 25\n"
          ]
        }
      ],
      "source": [
        "length=5\n",
        "area=length * length\n",
        "print(\"area of square is=\",area)"
      ]
    },
    {
      "cell_type": "markdown",
      "id": "0c15704a",
      "metadata": {
        "id": "0c15704a"
      },
      "source": [
        "Calculate the average of five numbers.\n"
      ]
    },
    {
      "cell_type": "code",
      "execution_count": null,
      "id": "ae66922d",
      "metadata": {
        "id": "ae66922d",
        "outputId": "f59998cc-fcf1-42e6-a9e8-541963c0d1a9",
        "colab": {
          "base_uri": "https://localhost:8080/"
        }
      },
      "outputs": [
        {
          "output_type": "stream",
          "name": "stdout",
          "text": [
            "enter the number:3\n",
            "enter the number:3\n",
            "enter the number:4\n",
            "enter the number:2\n",
            "enter the number:1\n",
            "2.6\n"
          ]
        }
      ],
      "source": [
        "number1=int(input(\"enter the number:\"))\n",
        "number2=int(input(\"enter the number:\"))\n",
        "number3=int(input(\"enter the number:\"))\n",
        "number4=int(input(\"enter the number:\"))\n",
        "number5=int(input(\"enter the number:\"))\n",
        "average=(number1+number2+number3+number4+number5)/5\n",
        "print(average)"
      ]
    },
    {
      "cell_type": "markdown",
      "id": "da3cde84",
      "metadata": {
        "id": "da3cde84"
      },
      "source": [
        "Create a variable with a boolean value and print its opposite value.\n"
      ]
    },
    {
      "cell_type": "code",
      "execution_count": null,
      "id": "0bb430b5",
      "metadata": {
        "id": "0bb430b5",
        "outputId": "588739b8-baa5-490c-c91d-02e298b77112",
        "colab": {
          "base_uri": "https://localhost:8080/"
        }
      },
      "outputs": [
        {
          "output_type": "stream",
          "name": "stdout",
          "text": [
            "Opposite value: False\n"
          ]
        }
      ],
      "source": [
        "bolean_value=True\n",
        "def print_opposite(boolean_value):\n",
        "    print(\"Opposite value:\", not boolean_value)\n",
        "print_opposite(True)"
      ]
    },
    {
      "cell_type": "markdown",
      "id": "d800b510",
      "metadata": {
        "id": "d800b510"
      },
      "source": [
        "Store your birth year in a variable and calculate your age."
      ]
    },
    {
      "cell_type": "code",
      "execution_count": null,
      "id": "94ac0a22",
      "metadata": {
        "id": "94ac0a22",
        "outputId": "8ef43c50-1d26-41a6-b4b0-7ee131defd32",
        "colab": {
          "base_uri": "https://localhost:8080/"
        }
      },
      "outputs": [
        {
          "output_type": "stream",
          "name": "stdout",
          "text": [
            "age= 23\n"
          ]
        }
      ],
      "source": [
        "birth_year=2001\n",
        "current_year=2024\n",
        "age=current_year-birth_year\n",
        "print(\"age=\",age)"
      ]
    },
    {
      "cell_type": "markdown",
      "id": "193bd0c7",
      "metadata": {
        "id": "193bd0c7"
      },
      "source": [
        "Create a variable with an integer and convert it to a float."
      ]
    },
    {
      "cell_type": "code",
      "execution_count": null,
      "id": "c862dfa4",
      "metadata": {
        "id": "c862dfa4",
        "outputId": "2d35918b-919f-4408-9b34-94abbc161a7d",
        "colab": {
          "base_uri": "https://localhost:8080/"
        }
      },
      "outputs": [
        {
          "output_type": "stream",
          "name": "stdout",
          "text": [
            "23.0 <class 'float'>\n"
          ]
        }
      ],
      "source": [
        "int=23\n",
        "y=float(int)\n",
        "print(y, type(y))"
      ]
    },
    {
      "cell_type": "markdown",
      "id": "d6e985ae",
      "metadata": {
        "id": "d6e985ae"
      },
      "source": [
        "Create a variable with a float and convert it to an integer."
      ]
    },
    {
      "cell_type": "code",
      "source": [
        "a=45.0\n",
        "print(int(a))"
      ],
      "metadata": {
        "id": "EXAu-NLj1MNH",
        "outputId": "729ce77f-dfcc-42b0-d58a-09d4604a38d5",
        "colab": {
          "base_uri": "https://localhost:8080/"
        }
      },
      "id": "EXAu-NLj1MNH",
      "execution_count": 1,
      "outputs": [
        {
          "output_type": "stream",
          "name": "stdout",
          "text": [
            "45\n"
          ]
        }
      ]
    },
    {
      "cell_type": "markdown",
      "id": "03fbd24c",
      "metadata": {
        "id": "03fbd24c"
      },
      "source": [
        "Create a variable with a string that represents an integer and convert it to an integer."
      ]
    },
    {
      "cell_type": "code",
      "source": [
        "z=\"45\"\n",
        "print(int(z))"
      ],
      "metadata": {
        "id": "4uf6kZcm2N35",
        "outputId": "810d9b51-921d-4eda-bdea-cae28dc67b57",
        "colab": {
          "base_uri": "https://localhost:8080/"
        }
      },
      "id": "4uf6kZcm2N35",
      "execution_count": 2,
      "outputs": [
        {
          "output_type": "stream",
          "name": "stdout",
          "text": [
            "45\n"
          ]
        }
      ]
    },
    {
      "cell_type": "markdown",
      "id": "7b82ee26",
      "metadata": {
        "id": "7b82ee26"
      },
      "source": [
        "Create a variable with a string that represents a float and convert it to a float.\n"
      ]
    },
    {
      "cell_type": "code",
      "execution_count": 3,
      "id": "31b96ee5",
      "metadata": {
        "id": "31b96ee5",
        "outputId": "57e052d1-c6c6-496e-a5f5-7305357d477c",
        "colab": {
          "base_uri": "https://localhost:8080/"
        }
      },
      "outputs": [
        {
          "output_type": "stream",
          "name": "stdout",
          "text": [
            "45.0\n"
          ]
        }
      ],
      "source": [
        "k=\"45.0\"\n",
        "print(float(k))"
      ]
    },
    {
      "cell_type": "markdown",
      "id": "55b70302",
      "metadata": {
        "id": "55b70302"
      },
      "source": [
        "Create a variable with a number and convert it to a string."
      ]
    },
    {
      "cell_type": "code",
      "execution_count": null,
      "id": "191ca6c0",
      "metadata": {
        "id": "191ca6c0",
        "outputId": "a2f81ae4-acd8-4032-aba5-7bcad33d7d12",
        "colab": {
          "base_uri": "https://localhost:8080/"
        }
      },
      "outputs": [
        {
          "output_type": "stream",
          "name": "stdout",
          "text": [
            "34 <class 'str'>\n"
          ]
        }
      ],
      "source": [
        "a=34\n",
        "y=str(a)\n",
        "print(y, type(y))"
      ]
    },
    {
      "cell_type": "markdown",
      "id": "12030234",
      "metadata": {
        "id": "12030234"
      },
      "source": [
        "Calculate the absolute value of a number.\n",
        "\n"
      ]
    },
    {
      "cell_type": "code",
      "execution_count": null,
      "id": "e6e2dbb2",
      "metadata": {
        "id": "e6e2dbb2",
        "outputId": "43e38e97-8035-4389-9c14-373fe745d7f3",
        "colab": {
          "base_uri": "https://localhost:8080/"
        }
      },
      "outputs": [
        {
          "output_type": "stream",
          "name": "stdout",
          "text": [
            "4\n"
          ]
        }
      ],
      "source": [
        "num=-4\n",
        "abs_value=abs(num)\n",
        "print(abs_value)"
      ]
    },
    {
      "cell_type": "markdown",
      "id": "0bcb4315",
      "metadata": {
        "id": "0bcb4315"
      },
      "source": [
        "Calculate the square root of a number.\n"
      ]
    },
    {
      "cell_type": "code",
      "execution_count": null,
      "id": "1ffc86be",
      "metadata": {
        "id": "1ffc86be",
        "outputId": "0e295f07-5852-4bd3-e65f-2da2c2c8c1eb",
        "colab": {
          "base_uri": "https://localhost:8080/"
        }
      },
      "outputs": [
        {
          "output_type": "stream",
          "name": "stdout",
          "text": [
            "4.0\n"
          ]
        }
      ],
      "source": [
        "num=16\n",
        "sqrt=num ** 0.5\n",
        "print(sqrt)"
      ]
    },
    {
      "cell_type": "markdown",
      "id": "3b8743eb",
      "metadata": {
        "id": "3b8743eb"
      },
      "source": [
        "Calculate the value of a raised to the power of b.\n"
      ]
    },
    {
      "cell_type": "code",
      "execution_count": null,
      "id": "d278563f",
      "metadata": {
        "id": "d278563f",
        "outputId": "b91a10c5-ce1b-44e7-9a62-8fef9bd80724",
        "colab": {
          "base_uri": "https://localhost:8080/"
        }
      },
      "outputs": [
        {
          "output_type": "stream",
          "name": "stdout",
          "text": [
            "9\n"
          ]
        }
      ],
      "source": [
        "a=3\n",
        "b=2\n",
        "value=a ** b\n",
        "print(value)"
      ]
    },
    {
      "cell_type": "markdown",
      "id": "d06e7a77",
      "metadata": {
        "id": "d06e7a77"
      },
      "source": [
        "Round a float to the nearest integer."
      ]
    },
    {
      "cell_type": "code",
      "execution_count": null,
      "id": "2f5873c3",
      "metadata": {
        "id": "2f5873c3",
        "outputId": "4a09d7a2-4752-4c9c-bda9-2703609a28f2",
        "colab": {
          "base_uri": "https://localhost:8080/"
        }
      },
      "outputs": [
        {
          "output_type": "stream",
          "name": "stdout",
          "text": [
            "3\n"
          ]
        }
      ],
      "source": [
        "float=3.14\n",
        "nearest_integer=round(float)\n",
        "print(nearest_integer)"
      ]
    },
    {
      "cell_type": "markdown",
      "id": "34f33237",
      "metadata": {
        "id": "34f33237"
      },
      "source": [
        "Combine multiple conditions using logical operators and print the result."
      ]
    },
    {
      "cell_type": "code",
      "execution_count": null,
      "id": "687d14b0",
      "metadata": {
        "id": "687d14b0",
        "outputId": "91903704-acfa-41d4-8492-573f15be0bd5",
        "colab": {
          "base_uri": "https://localhost:8080/"
        }
      },
      "outputs": [
        {
          "output_type": "stream",
          "name": "stdout",
          "text": [
            "Result of (a < b) and (b < c) or not (a == c): True\n"
          ]
        }
      ],
      "source": [
        "a = 20\n",
        "b = 30\n",
        "c = 40\n",
        "result = (a < b) and (b < c) or not (a == c)\n",
        "print(\"Result of (a < b) and (b < c) or not (a == c):\", result)"
      ]
    },
    {
      "cell_type": "markdown",
      "id": "ab20128b",
      "metadata": {
        "id": "ab20128b"
      },
      "source": [
        "Generate a random number between 1 and 100.**(challenging)**\n"
      ]
    },
    {
      "cell_type": "code",
      "execution_count": null,
      "id": "43ac553b",
      "metadata": {
        "id": "43ac553b",
        "outputId": "950e6c8b-01f3-41ec-8150-91d7d1c824e2",
        "colab": {
          "base_uri": "https://localhost:8080/"
        }
      },
      "outputs": [
        {
          "output_type": "stream",
          "name": "stdout",
          "text": [
            "Random number between 1 and 100: 2\n"
          ]
        }
      ],
      "source": [
        "import random\n",
        "random_number = random.randint(1, 4)\n",
        "print(\"Random number between 1 and 100:\", random_number)"
      ]
    }
  ],
  "metadata": {
    "kernelspec": {
      "display_name": "Python 3 (ipykernel)",
      "language": "python",
      "name": "python3"
    },
    "language_info": {
      "codemirror_mode": {
        "name": "ipython",
        "version": 3
      },
      "file_extension": ".py",
      "mimetype": "text/x-python",
      "name": "python",
      "nbconvert_exporter": "python",
      "pygments_lexer": "ipython3",
      "version": "3.10.12"
    },
    "colab": {
      "provenance": []
    }
  },
  "nbformat": 4,
  "nbformat_minor": 5
}