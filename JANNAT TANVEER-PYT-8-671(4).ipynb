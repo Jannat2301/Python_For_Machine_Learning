{
  "cells": [
    {
      "cell_type": "markdown",
      "id": "48147901",
      "metadata": {
        "id": "48147901"
      },
      "source": [
        "### Assignment-04 (List)\n",
        "- Change the notebook name with your name and Roll Number.\n",
        "- Try this as your own, no chatgpt (it's for your learning)\n",
        "- after completing the assignment, submit this book on google class room."
      ]
    },
    {
      "cell_type": "code",
      "execution_count": 1,
      "id": "26b4d246",
      "metadata": {
        "colab": {
          "base_uri": "https://localhost:8080/"
        },
        "id": "26b4d246",
        "outputId": "33008d71-b3c9-4265-ce8f-e8b286a625f2"
      },
      "outputs": [
        {
          "name": "stdout",
          "output_type": "stream",
          "text": [
            "['Jannat', 'Tanveer']\n"
          ]
        }
      ],
      "source": [
        "list=['Jannat', 'Tanveer']\n",
        "print(list)"
      ]
    },
    {
      "cell_type": "markdown",
      "id": "4a0551ca",
      "metadata": {
        "id": "4a0551ca"
      },
      "source": [
        "Create an empty list and print it.\n"
      ]
    },
    {
      "cell_type": "code",
      "execution_count": 3,
      "id": "d2923b71",
      "metadata": {
        "colab": {
          "base_uri": "https://localhost:8080/"
        },
        "id": "d2923b71",
        "outputId": "4d833094-227a-47da-bf6c-a55b09384629"
      },
      "outputs": [
        {
          "name": "stdout",
          "output_type": "stream",
          "text": [
            "[]\n"
          ]
        }
      ],
      "source": [
        "empty_list=[]\n",
        "print(empty_list)"
      ]
    },
    {
      "cell_type": "code",
      "execution_count": 4,
      "id": "s_KKDQDzmuw4",
      "metadata": {
        "colab": {
          "base_uri": "https://localhost:8080/"
        },
        "id": "s_KKDQDzmuw4",
        "outputId": "39917bea-ef19-469b-ab47-51a5ef9d2054"
      },
      "outputs": [
        {
          "name": "stdout",
          "output_type": "stream",
          "text": [
            "[]\n"
          ]
        }
      ],
      "source": [
        "list=[]\n",
        "print(list)"
      ]
    },
    {
      "cell_type": "markdown",
      "id": "fa6b638e",
      "metadata": {
        "id": "fa6b638e"
      },
      "source": [
        "Create a list of your favorite colors and print it.\n"
      ]
    },
    {
      "cell_type": "code",
      "execution_count": 5,
      "id": "c549875c",
      "metadata": {
        "colab": {
          "base_uri": "https://localhost:8080/"
        },
        "id": "c549875c",
        "outputId": "d188957f-48f0-46dd-9ed0-221ab8add560"
      },
      "outputs": [
        {
          "name": "stdout",
          "output_type": "stream",
          "text": [
            "['pink', 'green', 'purple']\n"
          ]
        }
      ],
      "source": [
        "list=['pink','green','purple']\n",
        "print(list)"
      ]
    },
    {
      "cell_type": "markdown",
      "id": "4a1371d4",
      "metadata": {
        "id": "4a1371d4"
      },
      "source": [
        "Create a list that includes a mix of data types (integers, strings, floats).\n"
      ]
    },
    {
      "cell_type": "code",
      "execution_count": 6,
      "id": "dfc878e2",
      "metadata": {
        "colab": {
          "base_uri": "https://localhost:8080/"
        },
        "id": "dfc878e2",
        "outputId": "a4937ae9-b86b-46e8-d41b-175e852e3284"
      },
      "outputs": [
        {
          "name": "stdout",
          "output_type": "stream",
          "text": [
            "[23, 'Jannat', 23.1, []]\n"
          ]
        }
      ],
      "source": [
        "list=[23,'Jannat',23.1,[]]\n",
        "print(list)"
      ]
    },
    {
      "cell_type": "markdown",
      "id": "2916cde7",
      "metadata": {
        "id": "2916cde7"
      },
      "source": [
        "Access the first element of a list.\n"
      ]
    },
    {
      "cell_type": "code",
      "execution_count": 7,
      "id": "a0a7b3d2",
      "metadata": {
        "colab": {
          "base_uri": "https://localhost:8080/"
        },
        "id": "a0a7b3d2",
        "outputId": "8ea93acb-dd79-47aa-c835-583bb8b86dca"
      },
      "outputs": [
        {
          "data": {
            "text/plain": [
              "55"
            ]
          },
          "execution_count": 7,
          "metadata": {},
          "output_type": "execute_result"
        }
      ],
      "source": [
        "list=[55,77,66,44]\n",
        "list[0]"
      ]
    },
    {
      "cell_type": "markdown",
      "id": "13b39ea7",
      "metadata": {
        "id": "13b39ea7"
      },
      "source": [
        "Access the last element of a list."
      ]
    },
    {
      "cell_type": "code",
      "execution_count": 8,
      "id": "4f8cf5da",
      "metadata": {
        "colab": {
          "base_uri": "https://localhost:8080/"
        },
        "id": "4f8cf5da",
        "outputId": "984a68b6-0347-4ad6-e815-0122f5b7d57e"
      },
      "outputs": [
        {
          "data": {
            "text/plain": [
              "9"
            ]
          },
          "execution_count": 8,
          "metadata": {},
          "output_type": "execute_result"
        }
      ],
      "source": [
        "list=[0,1,2,3,6,3,7,9]\n",
        "list[-1]"
      ]
    },
    {
      "cell_type": "markdown",
      "id": "ef7e0f8d",
      "metadata": {
        "id": "ef7e0f8d"
      },
      "source": [
        " Access the second and third elements of a list.\n"
      ]
    },
    {
      "cell_type": "code",
      "execution_count": 9,
      "id": "e215ceed",
      "metadata": {
        "colab": {
          "base_uri": "https://localhost:8080/"
        },
        "id": "e215ceed",
        "outputId": "c2c76b9e-f9cc-4049-8014-fdad5a95cdc7"
      },
      "outputs": [
        {
          "data": {
            "text/plain": [
              "['f', 'k']"
            ]
          },
          "execution_count": 9,
          "metadata": {},
          "output_type": "execute_result"
        }
      ],
      "source": [
        "list=['o','f','k','j','y','e']\n",
        "list[1:3]"
      ]
    },
    {
      "cell_type": "markdown",
      "id": "16ef79f1",
      "metadata": {
        "id": "16ef79f1"
      },
      "source": [
        "\n",
        "Slice a list to extract the first three elements.\n"
      ]
    },
    {
      "cell_type": "code",
      "execution_count": 12,
      "id": "86d94d3c",
      "metadata": {
        "colab": {
          "base_uri": "https://localhost:8080/"
        },
        "id": "86d94d3c",
        "outputId": "d5a2bac3-3ca5-431d-8458-9b2f4fb56898"
      },
      "outputs": [
        {
          "data": {
            "text/plain": [
              "[8, 9.8, 'info']"
            ]
          },
          "execution_count": 12,
          "metadata": {},
          "output_type": "execute_result"
        }
      ],
      "source": [
        "list=[8,9.8,'info',33,44,9,10,2.2]\n",
        "list[:3]"
      ]
    },
    {
      "cell_type": "markdown",
      "id": "717afad5",
      "metadata": {
        "id": "717afad5"
      },
      "source": [
        "Slice a list to extract the last three elements.\n"
      ]
    },
    {
      "cell_type": "code",
      "execution_count": 14,
      "id": "2f79b771",
      "metadata": {
        "colab": {
          "base_uri": "https://localhost:8080/"
        },
        "id": "2f79b771",
        "outputId": "8d10b078-2c46-4c28-f347-5255e2f63951"
      },
      "outputs": [
        {
          "data": {
            "text/plain": [
              "[9, 10, 2.2]"
            ]
          },
          "execution_count": 14,
          "metadata": {},
          "output_type": "execute_result"
        }
      ],
      "source": [
        "list=[8,9.8,'info',33,44,9,10,2.2]\n",
        "list[-3:]"
      ]
    },
    {
      "cell_type": "markdown",
      "id": "da7f582e",
      "metadata": {
        "id": "da7f582e"
      },
      "source": [
        "Slice a list to get every second element.\n"
      ]
    },
    {
      "cell_type": "code",
      "execution_count": 15,
      "id": "4edeea3d",
      "metadata": {
        "colab": {
          "base_uri": "https://localhost:8080/"
        },
        "id": "4edeea3d",
        "outputId": "0fb0ddd6-06bf-4e8e-946a-ac80ddefa0e4"
      },
      "outputs": [
        {
          "data": {
            "text/plain": [
              "[8, 'info', 44, 10]"
            ]
          },
          "execution_count": 15,
          "metadata": {},
          "output_type": "execute_result"
        }
      ],
      "source": [
        "list=[8,9.8,'info',33,44,9,10,2.2]\n",
        "list[::2]"
      ]
    },
    {
      "cell_type": "markdown",
      "id": "011bb9f7",
      "metadata": {
        "id": "011bb9f7"
      },
      "source": [
        "Reverse a list using slicing."
      ]
    },
    {
      "cell_type": "code",
      "execution_count": 18,
      "id": "c11e7110",
      "metadata": {
        "colab": {
          "base_uri": "https://localhost:8080/"
        },
        "id": "c11e7110",
        "outputId": "034ebe07-5d53-4ca3-91ee-ff5076dc5fad"
      },
      "outputs": [
        {
          "data": {
            "text/plain": [
              "[2.2, 10, 9, 44, 33, 'info', 9.8, 8]"
            ]
          },
          "execution_count": 18,
          "metadata": {},
          "output_type": "execute_result"
        }
      ],
      "source": [
        "list=[8,9.8,'info',33,44,9,10,2.2]\n",
        "list[7::-1]"
      ]
    },
    {
      "cell_type": "markdown",
      "id": "5f45b7a8",
      "metadata": {
        "id": "5f45b7a8"
      },
      "source": [
        " Create two lists and concatenate them.\n"
      ]
    },
    {
      "cell_type": "code",
      "execution_count": 19,
      "id": "2c210b01",
      "metadata": {
        "colab": {
          "base_uri": "https://localhost:8080/"
        },
        "id": "2c210b01",
        "outputId": "96556002-ec74-4b95-ffc2-a49e4a482025"
      },
      "outputs": [
        {
          "data": {
            "text/plain": [
              "['tu na jane', \"it's an assignment\"]"
            ]
          },
          "execution_count": 19,
          "metadata": {},
          "output_type": "execute_result"
        }
      ],
      "source": [
        "list=[\"tu na jane\"]\n",
        "list1=[\"it's an assignment\"]\n",
        "list+list1"
      ]
    },
    {
      "cell_type": "markdown",
      "id": "a6c019d7",
      "metadata": {
        "id": "a6c019d7"
      },
      "source": [
        "\n",
        "Repeat a list multiple times using the repetition operator"
      ]
    },
    {
      "cell_type": "code",
      "execution_count": 21,
      "id": "b40d10b9",
      "metadata": {
        "colab": {
          "base_uri": "https://localhost:8080/"
        },
        "id": "b40d10b9",
        "outputId": "7e6b6c8f-fb73-46dc-a4a3-b412c4c336f3"
      },
      "outputs": [
        {
          "name": "stdout",
          "output_type": "stream",
          "text": [
            "['jannat is lovely', 'jannat is lovely', 'jannat is lovely']\n"
          ]
        }
      ],
      "source": [
        "listR=['jannat is lovely']\n",
        "rv=listR*3\n",
        "print(rv)"
      ]
    },
    {
      "cell_type": "markdown",
      "id": "0fdf9b21",
      "metadata": {
        "id": "0fdf9b21"
      },
      "source": [
        "Add a new element to the end of a list using the append() method.\n"
      ]
    },
    {
      "cell_type": "code",
      "execution_count": 25,
      "id": "86906fc9",
      "metadata": {
        "colab": {
          "base_uri": "https://localhost:8080/"
        },
        "id": "86906fc9",
        "outputId": "3c992b6f-5acf-4169-eab1-1d34acb33c14"
      },
      "outputs": [
        {
          "data": {
            "text/plain": [
              "['google scholar', 'pubmed']"
            ]
          },
          "execution_count": 25,
          "metadata": {},
          "output_type": "execute_result"
        }
      ],
      "source": [
        "list=['google scholar']\n",
        "list.append('pubmed')\n",
        "list"
      ]
    },
    {
      "cell_type": "markdown",
      "id": "1812e852",
      "metadata": {
        "id": "1812e852"
      },
      "source": [
        "\n",
        "Extend a list with elements from another list using the extend() method.\n"
      ]
    },
    {
      "cell_type": "code",
      "execution_count": 28,
      "id": "375a8ac2",
      "metadata": {
        "colab": {
          "base_uri": "https://localhost:8080/"
        },
        "id": "375a8ac2",
        "outputId": "4254233d-0dab-4952-c9fb-2b9a41c02885"
      },
      "outputs": [
        {
          "data": {
            "text/plain": [
              "['google scholar', 'pubmed', 'sci hub', 'ncbi', 'bioinformatics']"
            ]
          },
          "execution_count": 28,
          "metadata": {},
          "output_type": "execute_result"
        }
      ],
      "source": [
        "list=['google scholar']\n",
        "list.extend(['pubmed', 'sci hub', 'ncbi', 'bioinformatics'])\n",
        "list\n"
      ]
    },
    {
      "cell_type": "markdown",
      "id": "b4285741",
      "metadata": {
        "id": "b4285741"
      },
      "source": [
        "Insert an element at a specific index in a list using the insert() method."
      ]
    },
    {
      "cell_type": "code",
      "execution_count": 33,
      "id": "5e5b2a93",
      "metadata": {
        "colab": {
          "base_uri": "https://localhost:8080/"
        },
        "id": "5e5b2a93",
        "outputId": "b3fb4107-0d15-459c-d48a-068982525dc9"
      },
      "outputs": [
        {
          "name": "stdout",
          "output_type": "stream",
          "text": [
            "After insert:  ['pubmed', 'technology', 'sci hub', 'ncbi', 'bioinformatics']\n"
          ]
        }
      ],
      "source": [
        "list=['pubmed', 'sci hub', 'ncbi', 'bioinformatics']\n",
        "list.insert(1,'technology')\n",
        "print(\"After insert: \", list)"
      ]
    },
    {
      "cell_type": "markdown",
      "id": "5926ef7b",
      "metadata": {
        "id": "5926ef7b"
      },
      "source": [
        " Remove the last element from a list using the pop() method.\n",
        "\n"
      ]
    },
    {
      "cell_type": "code",
      "execution_count": 35,
      "id": "4e3c8c6d",
      "metadata": {
        "colab": {
          "base_uri": "https://localhost:8080/"
        },
        "id": "4e3c8c6d",
        "outputId": "87e2f148-5a8a-4da0-c964-b6b4dc69f997"
      },
      "outputs": [
        {
          "name": "stdout",
          "output_type": "stream",
          "text": [
            "\n",
            "After pop():  ['pubmed', 'sci hub', 'ncbi']\n"
          ]
        }
      ],
      "source": [
        "list=['pubmed', 'sci hub', 'ncbi', 'bioinformatics']\n",
        "x=list.pop()\n",
        "print(\"\\nAfter pop(): \", list)"
      ]
    },
    {
      "cell_type": "markdown",
      "id": "34faaad1",
      "metadata": {
        "id": "34faaad1"
      },
      "source": [
        "Remove a specific element from a list using the remove() method.\n"
      ]
    },
    {
      "cell_type": "code",
      "execution_count": 39,
      "id": "2706c63d",
      "metadata": {
        "colab": {
          "base_uri": "https://localhost:8080/"
        },
        "id": "2706c63d",
        "outputId": "d25d6a9c-8a02-461f-cc54-39ec83ce219a"
      },
      "outputs": [
        {
          "name": "stdout",
          "output_type": "stream",
          "text": [
            "After remove():  ['pubmed', 'sci hub', 'bioinformatics']\n"
          ]
        }
      ],
      "source": [
        "list=['pubmed', 'sci hub', 'ncbi', 'bioinformatics']\n",
        "x = list.remove('ncbi')\n",
        "print(\"After remove(): \", list)"
      ]
    },
    {
      "cell_type": "markdown",
      "id": "b066a57c",
      "metadata": {
        "id": "b066a57c"
      },
      "source": [
        "Clear all elements from a list.\n"
      ]
    },
    {
      "cell_type": "code",
      "execution_count": 42,
      "id": "a4cb30f8",
      "metadata": {
        "colab": {
          "base_uri": "https://localhost:8080/"
        },
        "id": "a4cb30f8",
        "outputId": "44dc6318-18cc-4f33-dbe8-620567f559a0"
      },
      "outputs": [
        {
          "name": "stdout",
          "output_type": "stream",
          "text": [
            "\n",
            "After clear() the list becomes empty:  []\n"
          ]
        }
      ],
      "source": [
        "list=['pubmed', 'sci hub', 'ncbi', 'bioinformatics']\n",
        "list.clear()\n",
        "print(\"\\nAfter clear() the list becomes empty: \", list)"
      ]
    },
    {
      "cell_type": "markdown",
      "id": "f9d4754d",
      "metadata": {
        "id": "f9d4754d"
      },
      "source": [
        "Delete an element at a specific index using the del statement."
      ]
    },
    {
      "cell_type": "code",
      "execution_count": 43,
      "id": "adbc06c2",
      "metadata": {
        "colab": {
          "base_uri": "https://localhost:8080/"
        },
        "id": "adbc06c2",
        "outputId": "22e81c75-15b1-4d22-e50c-3d94048ab02f"
      },
      "outputs": [
        {
          "data": {
            "text/plain": [
              "['sci hub', 'ncbi', 'bioinformatics']"
            ]
          },
          "execution_count": 43,
          "metadata": {},
          "output_type": "execute_result"
        }
      ],
      "source": [
        "list=['pubmed', 'sci hub', 'ncbi', 'bioinformatics']\n",
        "del list[0:1]\n",
        "list"
      ]
    },
    {
      "cell_type": "markdown",
      "id": "6fda5133",
      "metadata": {
        "id": "6fda5133"
      },
      "source": [
        "Convert a string to a list of characters and vice-versa."
      ]
    },
    {
      "cell_type": "code",
      "execution_count": 44,
      "id": "7c9fe1dc",
      "metadata": {
        "colab": {
          "base_uri": "https://localhost:8080/"
        },
        "id": "7c9fe1dc",
        "outputId": "d3de94d3-0bb1-49e6-bae5-72fb7e8b682f"
      },
      "outputs": [
        {
          "name": "stdout",
          "output_type": "stream",
          "text": [
            "['sari', 'umar', 'me', 'joker', 'ja', 'bnaya', 'raya']\n"
          ]
        }
      ],
      "source": [
        "str='sari umar me joker ja bnaya raya'\n",
        "rv=str.split()\n",
        "print(rv)"
      ]
    },
    {
      "cell_type": "code",
      "execution_count": null,
      "id": "Z56vjf4azZon",
      "metadata": {
        "id": "Z56vjf4azZon"
      },
      "outputs": [],
      "source": [
        "Sort a list in ascending order using the sort() method."
      ]
    },
    {
      "cell_type": "code",
      "execution_count": 49,
      "id": "749b040c",
      "metadata": {
        "colab": {
          "base_uri": "https://localhost:8080/"
        },
        "id": "749b040c",
        "outputId": "f16961b7-e7f3-4488-d0a2-0654ab220ddb"
      },
      "outputs": [
        {
          "name": "stdout",
          "output_type": "stream",
          "text": [
            "\n",
            "After sort() the list becomes ascending:  [0, 2, 3, 5, 6, 7, 9]\n"
          ]
        }
      ],
      "source": [
        "list=[3,6,9,2,0,7,5]\n",
        "rv=list.sort()\n",
        "print(\"\\nAfter sort() the list becomes ascending: \", list)"
      ]
    },
    {
      "cell_type": "code",
      "execution_count": null,
      "id": "8a1c1820",
      "metadata": {
        "id": "8a1c1820"
      },
      "outputs": [],
      "source": [
        "\n",
        "Sort a list in descending order using the sort() method.\n"
      ]
    },
    {
      "cell_type": "code",
      "execution_count": 53,
      "id": "9d3b86b3",
      "metadata": {
        "colab": {
          "base_uri": "https://localhost:8080/"
        },
        "id": "9d3b86b3",
        "outputId": "f36b099f-e416-48f3-add6-5c32354b4ddd"
      },
      "outputs": [
        {
          "name": "stdout",
          "output_type": "stream",
          "text": [
            "\n",
            "After sort() the list becomes descending:  [9, 7, 6, 5, 3, 2, 0]\n"
          ]
        }
      ],
      "source": [
        "list=[3,6,9,2,0,7,5]\n",
        "rv=list.sort(reverse=True)\n",
        "print(\"\\nAfter sort() the list becomes descending: \", list)"
      ]
    },
    {
      "cell_type": "markdown",
      "id": "04c5419a",
      "metadata": {
        "id": "04c5419a"
      },
      "source": [
        "Reverse the order of a list using the reverse() method.\n"
      ]
    },
    {
      "cell_type": "code",
      "execution_count": 60,
      "id": "f0eac28f",
      "metadata": {
        "colab": {
          "base_uri": "https://localhost:8080/"
        },
        "id": "f0eac28f",
        "outputId": "5aa0b118-d5b6-46a5-f2ab-fad51467babe"
      },
      "outputs": [
        {
          "name": "stdout",
          "output_type": "stream",
          "text": [
            "\n",
            "After sort() the list becomes reverse:  [5, 7, 0, 2, 9, 6, 3]\n"
          ]
        }
      ],
      "source": [
        "list=[3,6,9,2,0,7,5]\n",
        "rv=list.reverse()\n",
        "print(\"\\nAfter sort() the list becomes reverse: \", list)"
      ]
    },
    {
      "cell_type": "markdown",
      "id": "ea816319",
      "metadata": {
        "id": "ea816319"
      },
      "source": [
        "Check if an element is present in a list using the in operator.\n"
      ]
    },
    {
      "cell_type": "code",
      "execution_count": 64,
      "id": "oh8RfbZU4zfk",
      "metadata": {
        "colab": {
          "base_uri": "https://localhost:8080/"
        },
        "id": "oh8RfbZU4zfk",
        "outputId": "2b8a97ea-5c23-472e-d580-854425f8376c"
      },
      "outputs": [
        {
          "data": {
            "text/plain": [
              "True"
            ]
          },
          "execution_count": 64,
          "metadata": {},
          "output_type": "execute_result"
        }
      ],
      "source": [
        "list=['having', 'fun', 'is', 'necessary']\n",
        "rv = 'fun' in list\n",
        "rv"
      ]
    },
    {
      "cell_type": "code",
      "execution_count": 63,
      "id": "db2e8041",
      "metadata": {
        "colab": {
          "base_uri": "https://localhost:8080/"
        },
        "id": "db2e8041",
        "outputId": "900c4816-fede-4eb5-8833-07083a4f673a"
      },
      "outputs": [
        {
          "data": {
            "text/plain": [
              "False"
            ]
          },
          "execution_count": 63,
          "metadata": {},
          "output_type": "execute_result"
        }
      ],
      "source": [
        "list=['having fun is necessary']\n",
        "rv = 'fun' in list\n",
        "rv"
      ]
    },
    {
      "cell_type": "markdown",
      "id": "f17e9e0a",
      "metadata": {
        "id": "f17e9e0a"
      },
      "source": [
        "Compare two lists to see if they are equal in both value and identity.\n"
      ]
    },
    {
      "cell_type": "code",
      "execution_count": 61,
      "id": "cc5763b1",
      "metadata": {
        "colab": {
          "base_uri": "https://localhost:8080/"
        },
        "id": "cc5763b1",
        "outputId": "343fe383-e99d-4e93-891c-7f72a1182408"
      },
      "outputs": [
        {
          "data": {
            "text/plain": [
              "(133603880702272, 133602693512896, False, False)"
            ]
          },
          "execution_count": 61,
          "metadata": {},
          "output_type": "execute_result"
        }
      ],
      "source": [
        "x=[4,5,6]\n",
        "y=[6,5,4]\n",
        "id(x), id(y),x is y, x==y"
      ]
    },
    {
      "cell_type": "markdown",
      "id": "19d815f3",
      "metadata": {
        "id": "19d815f3"
      },
      "source": [
        "Create a shallow copy of a list and modify one of the lists to observe the effects on the other.\n"
      ]
    },
    {
      "cell_type": "code",
      "execution_count": 129,
      "id": "TuvjXuVpAjRl",
      "metadata": {
        "colab": {
          "base_uri": "https://localhost:8080/"
        },
        "id": "TuvjXuVpAjRl",
        "outputId": "dc26437d-2839-4aee-8c6a-8400053c50eb"
      },
      "outputs": [
        {
          "name": "stdout",
          "output_type": "stream",
          "text": [
            "ID of list1: 133602696657664\n",
            "ID of list2: 133602696247616\n",
            "list1: [1, 3, 5, [100, 33]]\n",
            "list2: [1, 3, 5, [100, 33]]\n"
          ]
        }
      ],
      "source": [
        "list1 = [1,3,5,[22,33]]\n",
        "list2 = list1.copy()\n",
        "shallow_copy = list1.copy()\n",
        "print('ID of list1:', id(list1))\n",
        "print('ID of list2:', id(list2))\n",
        "list2[3][0] = 100\n",
        "print('list1:', list1)\n",
        "print('list2:', list2)"
      ]
    },
    {
      "cell_type": "markdown",
      "id": "6c8f1702",
      "metadata": {
        "id": "6c8f1702"
      },
      "source": [
        "Create a deep copy of a nested list and modify one of the lists to observe the effects on the other."
      ]
    },
    {
      "cell_type": "code",
      "execution_count": 126,
      "id": "87a8af6d",
      "metadata": {
        "colab": {
          "base_uri": "https://localhost:8080/"
        },
        "id": "87a8af6d",
        "outputId": "44055825-b305-487b-d8e8-f506e0c43268"
      },
      "outputs": [
        {
          "name": "stdout",
          "output_type": "stream",
          "text": [
            "ID of list1: 133602694266496\n",
            "ID of list2: 133602694252928\n",
            "list1: [3, 5, 7, [9, 11]]\n",
            "list2: [3, 5, 7, [9, 100]]\n"
          ]
        }
      ],
      "source": [
        "list1 = [3,5,7,[9,11]]\n",
        "list2 = copy.deepcopy(list1)\n",
        "print('ID of list1:', id(list1))\n",
        "print('ID of list2:', id(list2))\n",
        "list2[3][1] = 100\n",
        "print('list1:', list1)\n",
        "print('list2:', list2)"
      ]
    },
    {
      "cell_type": "markdown",
      "id": "c52154a0",
      "metadata": {
        "id": "c52154a0"
      },
      "source": [
        "Pickle and Unpickle a list and display its content."
      ]
    },
    {
      "cell_type": "code",
      "execution_count": 134,
      "id": "2c97aff5",
      "metadata": {
        "colab": {
          "base_uri": "https://localhost:8080/"
        },
        "id": "2c97aff5",
        "outputId": "90df04e8-e272-4d91-87d0-b345d2c5cd36"
      },
      "outputs": [
        {
          "name": "stdout",
          "output_type": "stream",
          "text": [
            "List has been pickled.\n",
            "Unpickled list: ['life', 'is', 'dull']\n"
          ]
        }
      ],
      "source": [
        "list =['life', 'is', 'dull']\n",
        "with open('list.pkl', 'wb') as file:\n",
        "    pickle.dump(list, file)\n",
        "print(\"List has been pickled.\")\n",
        "with open('list.pkl', 'rb') as file:\n",
        "    loaded_list = pickle.load(file)\n",
        "print(\"Unpickled list:\", loaded_list)"
      ]
    }
  ],
  "metadata": {
    "colab": {
      "provenance": []
    },
    "kernelspec": {
      "display_name": "Python 3 (ipykernel)",
      "language": "python",
      "name": "python3"
    },
    "language_info": {
      "codemirror_mode": {
        "name": "ipython",
        "version": 3
      },
      "file_extension": ".py",
      "mimetype": "text/x-python",
      "name": "python",
      "nbconvert_exporter": "python",
      "pygments_lexer": "ipython3",
      "version": "3.10.13"
    }
  },
  "nbformat": 4,
  "nbformat_minor": 5
}
