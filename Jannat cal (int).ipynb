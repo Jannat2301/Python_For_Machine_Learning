{
  "nbformat": 4,
  "nbformat_minor": 0,
  "metadata": {
    "colab": {
      "provenance": []
    },
    "kernelspec": {
      "name": "python3",
      "display_name": "Python 3"
    },
    "language_info": {
      "name": "python"
    }
  },
  "cells": [
    {
      "cell_type": "code",
      "execution_count": 1,
      "metadata": {
        "colab": {
          "base_uri": "https://localhost:8080/"
        },
        "id": "oEF8XDbQKVL9",
        "outputId": "d58c0316-4302-4be9-d62b-9b38eeb85eb4"
      },
      "outputs": [
        {
          "output_type": "stream",
          "name": "stdout",
          "text": [
            "enter 1st number37\n",
            "enter 2nd number11\n",
            "False\n",
            "48\n",
            "26\n",
            "3.3636363636363638\n",
            "177917621779460413\n",
            "3\n",
            "407\n",
            "True\n",
            "False\n",
            "False\n",
            "True\n",
            "True\n",
            "4\n"
          ]
        }
      ],
      "source": [
        "user_input1=input(\"enter 1st number\")\n",
        "user_input2=input(\"enter 2nd number\")\n",
        "print(int(user_input1)==int(user_input2))\n",
        "print(int(user_input1)+int(user_input2))\n",
        "print(int(user_input1)-int(user_input2))\n",
        "print(int(user_input1)/int(user_input2))\n",
        "print(int(user_input1)**int(user_input2))\n",
        "print(int(user_input1)//int(user_input2))\n",
        "print(int(user_input1)*int(user_input2))\n",
        "print(int(user_input1)>int(user_input2))\n",
        "print(int(user_input1)<int(user_input2))\n",
        "print(int(user_input1)<=int(user_input2))\n",
        "print(int(user_input1)>=int(user_input2))\n",
        "print(int(user_input1)!=int(user_input2))\n",
        "print(int(user_input1)%int(user_input2))"
      ]
    }
  ]
}